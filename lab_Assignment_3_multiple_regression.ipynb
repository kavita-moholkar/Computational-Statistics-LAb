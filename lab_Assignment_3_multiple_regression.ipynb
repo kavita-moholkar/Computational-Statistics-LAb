{
  "nbformat": 4,
  "nbformat_minor": 0,
  "metadata": {
    "colab": {
      "name": "lab_Assignment 3:multiple regression.ipynb",
      "provenance": [],
      "collapsed_sections": []
    },
    "kernelspec": {
      "name": "python3",
      "display_name": "Python 3"
    }
  },
  "cells": [
    {
      "cell_type": "code",
      "metadata": {
        "id": "DlY1YyUpWJFy"
      },
      "source": [
        ""
      ],
      "execution_count": null,
      "outputs": []
    },
    {
      "cell_type": "code",
      "metadata": {
        "id": "XYY5angZmhyI"
      },
      "source": [
        ""
      ],
      "execution_count": null,
      "outputs": []
    },
    {
      "cell_type": "code",
      "metadata": {
        "id": "6h2hUu8AQd-c",
        "colab": {
          "base_uri": "https://localhost:8080/",
          "height": 300
        },
        "outputId": "e4200400-bb72-40f1-80bc-7fec5d465742"
      },
      "source": [
        "import pandas as pd\n",
        "import matplotlib.pyplot as plt\n",
        "  \n",
        "Stock_Market = {'Year': [2017,2017,2017,2017,2017,2017,2017,2017,2017,2017,2017,2017,2016,2016,2016,2016,2016,2016,2016,2016,2016,2016,2016,2016],\n",
        "                'Month': [12, 11,10,9,8,7,6,5,4,3,2,1,12,11,10,9,8,7,6,5,4,3,2,1],\n",
        "                'Interest_Rate': [2.75,2.5,2.5,2.5,2.5,2.5,2.5,2.25,2.25,2.25,2,2,2,1.75,1.75,1.75,1.75,1.75,1.75,1.75,1.75,1.75,1.75,1.75],\n",
        "                'Unemployment_Rate': [5.3,5.3,5.3,5.3,5.4,5.6,5.5,5.5,5.5,5.6,5.7,5.9,6,5.9,5.8,6.1,6.2,6.1,6.1,6.1,5.9,6.2,6.2,6.1],\n",
        "                'Stock_Index_Price': [1464,1394,1357,1293,1256,1254,1234,1195,1159,1167,1130,1075,1047,965,943,958,971,949,884,866,876,822,704,719]        \n",
        "                }\n",
        " \n",
        "df = pd.DataFrame(Stock_Market,columns=['Year','Month','Interest_Rate','Unemployment_Rate','Stock_Index_Price'])\n",
        " \n",
        "plt.scatter(df['Interest_Rate'], df['Stock_Index_Price'], color='red')\n",
        "plt.title('Stock Index Price Vs Interest Rate', fontsize=14)\n",
        "plt.xlabel('Interest Rate', fontsize=14)\n",
        "plt.ylabel('Stock Index Price', fontsize=14)\n",
        "plt.grid(True)\n",
        "plt.show()"
      ],
      "execution_count": null,
      "outputs": [
        {
          "output_type": "display_data",
          "data": {
            "image/png": "[encoded data removed]",
            "text/plain": [
              "<Figure size 432x288 with 1 Axes>"
            ]
          },
          "metadata": {
            "tags": [],
            "needs_background": "light"
          }
        }
      ]
    },
    {
      "cell_type": "code",
      "metadata": {
        "id": "Cq4OeAY9mCVX"
      },
      "source": [
        ""
      ],
      "execution_count": null,
      "outputs": []
    },
    {
      "cell_type": "markdown",
      "metadata": {
        "id": "qszs5mWjDxEP"
      },
      "source": [
        "# **Multiple Linear Regression**"
      ]
    },
    {
      "cell_type": "code",
      "metadata": {
        "id": "k4q12EUhPDXi",
        "colab": {
          "base_uri": "https://localhost:8080/"
        },
        "outputId": "982c9de3-773f-45e8-ad0f-6c5233883f92"
      },
      "source": [
        "import pandas as pd\n",
        "from sklearn import linear_model\n",
        "import statsmodels.api as sm\n",
        "\n",
        "Stock_Market = {'Year': [2017,2017,2017,2017,2017,2017,2017,2017,2017,2017,2017,2017,2016,2016,2016,2016,2016,2016,2016,2016,2016,2016,2016,2016],\n",
        "                'Month': [12, 11,10,9,8,7,6,5,4,3,2,1,12,11,10,9,8,7,6,5,4,3,2,1],\n",
        "                'Interest_Rate': [2.75,2.5,2.5,2.5,2.5,2.5,2.5,2.25,2.25,2.25,2,2,2,1.75,1.75,1.75,1.75,1.75,1.75,1.75,1.75,1.75,1.75,1.75],\n",
        "                'Unemployment_Rate': [5.3,5.3,5.3,5.3,5.4,5.6,5.5,5.5,5.5,5.6,5.7,5.9,6,5.9,5.8,6.1,6.2,6.1,6.1,6.1,5.9,6.2,6.2,6.1],\n",
        "                'Stock_Index_Price': [1464,1394,1357,1293,1256,1254,1234,1195,1159,1167,1130,1075,1047,965,943,958,971,949,884,866,876,822,704,719]        \n",
        "                }\n",
        "\n",
        "df = pd.DataFrame(Stock_Market,columns=['Year','Month','Interest_Rate','Unemployment_Rate','Stock_Index_Price'])\n",
        "\n",
        "X = df[['Interest_Rate','Unemployment_Rate']] # here we have 2 variables for multiple regression. \n",
        "Y = df['Stock_Index_Price']\n",
        " \n",
        "# with sklearn\n",
        "regr = linear_model.LinearRegression()\n",
        "regr.fit(X, Y)\n",
        "\n",
        "print('Intercept: \\n', regr.intercept_)\n",
        "print('Coefficients: \\n', regr.coef_)\n",
        "\n",
        "# prediction with sklearn\n",
        "New_Interest_Rate = 2.75\n",
        "New_Unemployment_Rate = 5.3\n",
        "print ('Predicted Stock Index Price: \\n', regr.predict([[New_Interest_Rate ,New_Unemployment_Rate]]))"
      ],
      "execution_count": null,
      "outputs": [
        {
          "output_type": "stream",
          "text": [
            "/usr/local/lib/python3.6/dist-packages/statsmodels/tools/_testing.py:19: FutureWarning: pandas.util.testing is deprecated. Use the functions in the public API at pandas.testing instead.\n",
            "  import pandas.util.testing as tm\n"
          ],
          "name": "stderr"
        },
        {
          "output_type": "stream",
          "text": [
            "Intercept: \n",
            " 1798.4039776258546\n",
            "Coefficients: \n",
            " [ 345.54008701 -250.14657137]\n",
            "Predicted Stock Index Price: \n",
            " [1422.86238865]\n"
          ],
          "name": "stdout"
        }
      ]
    },
    {
      "cell_type": "code",
      "metadata": {
        "id": "H0tlbInGiikE",
        "colab": {
          "base_uri": "https://localhost:8080/"
        },
        "outputId": "3bca203c-c063-4eb5-b504-e7bd25565a25"
      },
      "source": [
        "import pandas as pd\n",
        "from sklearn import linear_model\n",
        "import statsmodels.api as sm\n",
        " \n",
        "Stock_Market = {'Year': [2017,2017,2017,2017,2017,2017,2017,2017,2017,2017,2017,2017,2016,2016,2016,2016,2016,2016,2016,2016,2016,2016,2016,2016],\n",
        "                'Month': [12, 11,10,9,8,7,6,5,4,3,2,1,12,11,10,9,8,7,6,5,4,3,2,1],\n",
        "                'Interest_Rate': [2.75,2.5,2.5,2.5,2.5,2.5,2.5,2.25,2.25,2.25,2,2,2,1.75,1.75,1.75,1.75,1.75,1.75,1.75,1.75,1.75,1.75,1.75],\n",
        "                'Unemployment_Rate': [5.3,5.3,5.3,5.3,5.4,5.6,5.5,5.5,5.5,5.6,5.7,5.9,6,5.9,5.8,6.1,6.2,6.1,6.1,6.1,5.9,6.2,6.2,6.1],\n",
        "                'Stock_Index_Price': [1464,1394,1357,1293,1256,1254,1234,1195,1159,1167,1130,1075,1047,965,943,958,971,949,884,866,876,822,704,719]        \n",
        "                }\n",
        " \n",
        "df = pd.DataFrame(Stock_Market,columns=['Year','Month','Interest_Rate','Unemployment_Rate','Stock_Index_Price'])\n",
        "X = df[['Interest_Rate','Unemployment_Rate']]\n",
        "Y= df['Stock_Index_Price']\n",
        "regr = linear_model.LinearRegression()\n",
        "regr.fit(X,Y)\n",
        "print('Intercept:',regr.intercept_)\n",
        "print('coeffient:',regr.coef_)"
      ],
      "execution_count": null,
      "outputs": [
        {
          "output_type": "stream",
          "text": [
            "Intercept: 1798.4039776258546\n",
            "coeffient: [ 345.54008701 -250.14657137]\n"
          ],
          "name": "stdout"
        }
      ]
    },
    {
      "cell_type": "code",
      "metadata": {
        "id": "MRphNi64jq1Q",
        "colab": {
          "base_uri": "https://localhost:8080/"
        },
        "outputId": "49c1b54c-863a-46fc-ca8d-36df74f3e187"
      },
      "source": [
        "print(\"Stock_Index_Price_ped =\",regr.intercept_,\"+\",regr.coef_[0],\"Interest_Rate +\",regr.coef_[1],\"Unemployment_Rate\")"
      ],
      "execution_count": null,
      "outputs": [
        {
          "output_type": "stream",
          "text": [
            "Stock_Index_Price_ped = 1798.4039776258546 + 345.54008701056574 Interest_Rate + -250.14657136938058 Unemployment_Rate\n"
          ],
          "name": "stdout"
        }
      ]
    },
    {
      "cell_type": "code",
      "metadata": {
        "id": "LvhVO1eWkZWw",
        "colab": {
          "base_uri": "https://localhost:8080/"
        },
        "outputId": "07cc7583-ef75-4fcc-d5c9-d3d7d8b7cc67"
      },
      "source": [
        "x1=2.75\n",
        "x2 =5.3\n",
        "Stock_Index_Price_pred =regr.intercept_+regr.coef_[0] *X['Interest_Rate']+regr.coef_[1]*X['Unemployment_Rate']\n",
        "Stock_Index_Price_pred\n",
        "\n"
      ],
      "execution_count": null,
      "outputs": [
        {
          "output_type": "execute_result",
          "data": {
            "text/plain": [
              "0     1422.862389\n",
              "1     1336.477367\n",
              "2     1336.477367\n",
              "3     1336.477367\n",
              "4     1311.462710\n",
              "5     1261.433395\n",
              "6     1286.448053\n",
              "7     1200.063031\n",
              "8     1200.063031\n",
              "9     1175.048374\n",
              "10    1063.648695\n",
              "11    1013.619381\n",
              "12     988.604723\n",
              "13     927.234359\n",
              "14     952.249016\n",
              "15     877.205045\n",
              "16     852.190387\n",
              "17     877.205045\n",
              "18     877.205045\n",
              "19     877.205045\n",
              "20     927.234359\n",
              "21     852.190387\n",
              "22     852.190387\n",
              "23     877.205045\n",
              "dtype: float64"
            ]
          },
          "metadata": {
            "tags": []
          },
          "execution_count": 6
        }
      ]
    },
    {
      "cell_type": "code",
      "metadata": {
        "id": "76XsD6VOzFAo"
      },
      "source": [
        ""
      ],
      "execution_count": null,
      "outputs": []
    },
    {
      "cell_type": "code",
      "metadata": {
        "id": "RpP9DMn6k_Zk",
        "colab": {
          "base_uri": "https://localhost:8080/"
        },
        "outputId": "90896746-480d-4f06-fb22-227eea8e6437"
      },
      "source": [
        "x1=2.75\n",
        "x2 =5.3\n",
        "Stock_Index_Price_pred =regr.intercept_+regr.coef_[0] *X['Interest_Rate']+regr.coef_[1]*X['Unemployment_Rate']\n",
        "Stock_Index_Price_pred\n",
        "\n"
      ],
      "execution_count": null,
      "outputs": [
        {
          "output_type": "execute_result",
          "data": {
            "text/plain": [
              "0     1422.862389\n",
              "1     1336.477367\n",
              "2     1336.477367\n",
              "3     1336.477367\n",
              "4     1311.462710\n",
              "5     1261.433395\n",
              "6     1286.448053\n",
              "7     1200.063031\n",
              "8     1200.063031\n",
              "9     1175.048374\n",
              "10    1063.648695\n",
              "11    1013.619381\n",
              "12     988.604723\n",
              "13     927.234359\n",
              "14     952.249016\n",
              "15     877.205045\n",
              "16     852.190387\n",
              "17     877.205045\n",
              "18     877.205045\n",
              "19     877.205045\n",
              "20     927.234359\n",
              "21     852.190387\n",
              "22     852.190387\n",
              "23     877.205045\n",
              "dtype: float64"
            ]
          },
          "metadata": {
            "tags": []
          },
          "execution_count": 7
        }
      ]
    },
    {
      "cell_type": "code",
      "metadata": {
        "id": "3fpZhH-blZMO",
        "colab": {
          "base_uri": "https://localhost:8080/"
        },
        "outputId": "f4146138-d942-40de-8968-36feefd3b68a"
      },
      "source": [
        "Stock_Index_Price_pred = regr.predict(X)\n",
        "Stock_Index_Price_pred"
      ],
      "execution_count": null,
      "outputs": [
        {
          "output_type": "execute_result",
          "data": {
            "text/plain": [
              "array([1422.86238865, 1336.47736689, 1336.47736689, 1336.47736689,\n",
              "       1311.46270976, 1261.43339548, 1286.44805262, 1200.06303087,\n",
              "       1200.06303087, 1175.04837373, 1063.64869484, 1013.61938057,\n",
              "        988.60472343,  927.23435881,  952.24901595,  877.20504454,\n",
              "        852.1903874 ,  877.20504454,  877.20504454,  877.20504454,\n",
              "        927.23435881,  852.1903874 ,  852.1903874 ,  877.20504454])"
            ]
          },
          "metadata": {
            "tags": []
          },
          "execution_count": 8
        }
      ]
    },
    {
      "cell_type": "code",
      "metadata": {
        "id": "xUoIPtJa1L5e",
        "colab": {
          "base_uri": "https://localhost:8080/"
        },
        "outputId": "869a1095-f0c5-4ac2-8980-d78a745dfa2c"
      },
      "source": [
        "# Model Accuracy\n",
        "regr.score(X,Y)"
      ],
      "execution_count": null,
      "outputs": [
        {
          "output_type": "execute_result",
          "data": {
            "text/plain": [
              "0.8976335894170216"
            ]
          },
          "metadata": {
            "tags": []
          },
          "execution_count": 9
        }
      ]
    },
    {
      "cell_type": "markdown",
      "metadata": {
        "id": "W42UXz-S3Scn"
      },
      "source": [
        "# **Checking multicollinearity**"
      ]
    },
    {
      "cell_type": "code",
      "metadata": {
        "id": "thk31k5N5SWw"
      },
      "source": [
        "Stock_Market = {'Year': [2017,2017,2017,2017,2017,2017,2017,2017,2017,2017,2017,2017,2016,2016,2016,2016,2016,2016,2016,2016,2016,2016,2016,2016],\n",
        "                'Month': [12, 11,10,9,8,7,6,5,4,3,2,1,12,11,10,9,8,7,6,5,4,3,2,1],\n",
        "                'Interest_Rate': [2.75,2.5,2.5,2.5,2.5,2.5,2.5,2.25,2.25,2.25,2,2,2,1.75,1.75,1.75,1.75,1.75,1.75,1.75,1.75,1.75,1.75,1.75],\n",
        "                'Unemployment_Rate': [5.3,5.3,5.3,5.3,5.4,5.6,5.5,5.5,5.5,5.6,5.7,5.9,6,5.9,5.8,6.1,6.2,6.1,6.1,6.1,5.9,6.2,6.2,6.1],\n",
        "                'Stock_Index_Price': [1464,1394,1357,1293,1256,1254,1234,1195,1159,1167,1130,1075,1047,965,943,958,971,949,884,866,876,822,704,719]        \n",
        "                }\n",
        "\n",
        "df = pd.DataFrame(Stock_Market,columns=['Year','Month','Interest_Rate','Unemployment_Rate','Stock_Index_Price'])\n",
        "X = df[['Interest_Rate','Unemployment_Rate']]\n",
        "Y= df['Stock_Index_Price']"
      ],
      "execution_count": null,
      "outputs": []
    },
    {
      "cell_type": "code",
      "metadata": {
        "id": "Ztsn2_PV2HVy",
        "colab": {
          "base_uri": "https://localhost:8080/"
        },
        "outputId": "3a1dd843-5b30-4338-dc6e-04a8608f3fc5"
      },
      "source": [
        "X = df[['Interest_Rate','Unemployment_Rate']]\n",
        "Y=  df['Stock_Index_Price']\n",
        "features = ['Interest_Rate','Unemployment_Rate']\n",
        "print('Features                :  %s' % features)\n",
        "print('Regression Coefficients : ', [round(item, 2) for item in regr.coef_])\n",
        "print('R-squared               :  %.2f' % regr.score(X, Y))\n",
        "print('Y-intercept             :  %.2f' % regr.intercept_)"
      ],
      "execution_count": null,
      "outputs": [
        {
          "output_type": "stream",
          "text": [
            "Features                :  ['Interest_Rate', 'Unemployment_Rate']\n",
            "Regression Coefficients :  [345.54, -250.15]\n",
            "R-squared               :  0.90\n",
            "Y-intercept             :  1798.40\n"
          ],
          "name": "stdout"
        }
      ]
    },
    {
      "cell_type": "code",
      "metadata": {
        "id": "yo45U3q_5V82",
        "colab": {
          "base_uri": "https://localhost:8080/"
        },
        "outputId": "d6be0a5e-29d2-4c12-9e3e-5d5a02366688"
      },
      "source": [
        "features = ['Interest_Rate','Year']\n",
        "print('Features                :  %s' % features)\n",
        "print('Regression Coefficients : ', [round(item, 2) for item in regr.coef_])\n",
        "print('R-squared               :  %.2f' % regr.score(X, Y))\n",
        "print('Y-intercept             :  %.2f' % regr.intercept_)"
      ],
      "execution_count": null,
      "outputs": [
        {
          "output_type": "stream",
          "text": [
            "Features                :  ['Interest_Rate', 'Year']\n",
            "Regression Coefficients :  [345.54, -250.15]\n",
            "R-squared               :  0.90\n",
            "Y-intercept             :  1798.40\n"
          ],
          "name": "stdout"
        }
      ]
    },
    {
      "cell_type": "code",
      "metadata": {
        "id": "0jTZCIgD5bIM",
        "colab": {
          "base_uri": "https://localhost:8080/"
        },
        "outputId": "79796f11-f3d9-4e56-8270-7f6c35a283d7"
      },
      "source": [
        "features =['Interest_Rate','Unemployment_Rate','Year']\n",
        "Y= df['Stock_Index_Price']\n",
        "print('Features                :  %s' % features)\n",
        "print('Regression Coefficients : ', [round(item, 2) for item in regr.coef_])\n",
        "print('R-squared               :  %.2f' % regr.score(X, Y))\n",
        "print('Y-intercept             :  %.2f' % regr.intercept_)"
      ],
      "execution_count": null,
      "outputs": [
        {
          "output_type": "stream",
          "text": [
            "Features                :  ['Interest_Rate', 'Unemployment_Rate', 'Year']\n",
            "Regression Coefficients :  [345.54, -250.15]\n",
            "R-squared               :  0.90\n",
            "Y-intercept             :  1798.40\n"
          ],
          "name": "stdout"
        }
      ]
    },
    {
      "cell_type": "code",
      "metadata": {
        "id": "M4J_5pIT5ga5",
        "colab": {
          "base_uri": "https://localhost:8080/"
        },
        "outputId": "60f76167-a86f-43b0-9974-9197ce336c31"
      },
      "source": [
        "features = ['Year','Unemployment_Rate']\n",
        "Y= df['Stock_Index_Price']\n",
        "print('Features                :  %s' % features)\n",
        "print('Regression Coefficients : ', [round(item, 2) for item in regr.coef_])\n",
        "print('R-squared               :  %.2f' % regr.score(X, Y))\n",
        "print('Y-intercept             :  %.2f' % regr.intercept_)"
      ],
      "execution_count": null,
      "outputs": [
        {
          "output_type": "stream",
          "text": [
            "Features                :  ['Year', 'Unemployment_Rate']\n",
            "Regression Coefficients :  [345.54, -250.15]\n",
            "R-squared               :  0.90\n",
            "Y-intercept             :  1798.40\n"
          ],
          "name": "stdout"
        }
      ]
    },
    {
      "cell_type": "code",
      "metadata": {
        "id": "7BvFcFl75jcG",
        "colab": {
          "base_uri": "https://localhost:8080/",
          "height": 84
        },
        "outputId": "a9ce2cd9-980d-4d3e-f45a-80bdb229083f"
      },
      "source": [
        "features = ['Interest_Rate','Unemployment_Rate','Year','Month']\n",
        "Y= df['Stock_Index_Price']\n",
        "print('Features                :  %s' % features)\n",
        "print('Regression Coefficients : ', [round(item, 2) for item in regr.coef_])\n",
        "print('R-squared               :  %.2f' % regr.score(X, Y))\n",
        "print('Y-intercept             :  %.2f' % regr.intercept_)"
      ],
      "execution_count": null,
      "outputs": [
        {
          "output_type": "stream",
          "text": [
            "Features                :  ['Interest_Rate', 'Unemployment_Rate', 'Year', 'Month']\n",
            "Regression Coefficients :  [345.54, -250.15]\n",
            "R-squared               :  0.90\n",
            "Y-intercept             :  1798.40\n"
          ],
          "name": "stdout"
        }
      ]
    },
    {
      "cell_type": "markdown",
      "metadata": {
        "id": "Y1WKIiwB3AkE"
      },
      "source": [
        "# Plotting Coorelation matrix"
      ]
    },
    {
      "cell_type": "code",
      "metadata": {
        "id": "tvLzuMBZ26Ns",
        "colab": {
          "base_uri": "https://localhost:8080/",
          "height": 373
        },
        "outputId": "c5ec70fe-5cfb-4865-8aa9-75b8d75cf34a"
      },
      "source": [
        "import numpy as np\n",
        "import seaborn as sns\n",
        "corr = df.corr(method='spearman')\n",
        "\n",
        "# Generate a mask for the upper triangle\n",
        "mask = np.zeros_like(corr, dtype=np.bool)\n",
        "mask[np.triu_indices_from(mask)] = True\n",
        "\n",
        "# Set up the matplotlib figure\n",
        "fig, ax = plt.subplots(figsize=(6, 5))\n",
        "\n",
        "# Generate a custom diverging colormap\n",
        "cmap = sns.diverging_palette(220, 10, as_cmap=True, sep=100)\n",
        "\n",
        "# Draw the heatmap with the mask and correct aspect ratio\n",
        "sns.heatmap(corr, mask=mask, cmap=cmap, vmin=-1, vmax=1, center=0, linewidths=.5)\n",
        "\n",
        "fig.suptitle('Correlation matrix of features', fontsize=15)\n",
        "ax.text(0.77, 0.2, 'aegis4048.github.io', fontsize=13, ha='center', va='center',\n",
        "         transform=ax.transAxes, color='grey', alpha=0.5)\n",
        "\n",
        "fig.tight_layout()"
      ],
      "execution_count": null,
      "outputs": [
        {
          "output_type": "display_data",
          "data": {
            "image/png": "[encoded data removed]",
            "text/plain": [
              "<Figure size 432x360 with 2 Axes>"
            ]
          },
          "metadata": {
            "tags": [],
            "needs_background": "light"
          }
        }
      ]
    },
    {
      "cell_type": "code",
      "metadata": {
        "id": "5NCMm4g_Hj79"
      },
      "source": [
        "import numpy as np\n"
      ],
      "execution_count": null,
      "outputs": []
    },
    {
      "cell_type": "code",
      "metadata": {
        "id": "gkaG50Q4m-LN",
        "colab": {
          "base_uri": "https://localhost:8080/"
        },
        "outputId": "f0b9351b-c8c2-4ba8-dd50-c9a550c64f81"
      },
      "source": [
        "import statsmodels.api as sm\n",
        "X = df[['Interest_Rate','Unemployment_Rate']] # here we have 2 variables for multiple regression. \n",
        "Y = df['Stock_Index_Price']\n",
        "mlr = sm.OLS(Y,X).fit() # Ordinary least square\n",
        "mlr.params\n",
        "Y_pred =mlr.predict(X)\n",
        "Y_pred\n",
        "\n",
        "\n",
        "\n",
        "\n",
        "\n"
      ],
      "execution_count": null,
      "outputs": [
        {
          "output_type": "execute_result",
          "data": {
            "text/plain": [
              "0     1455.365946\n",
              "1     1315.638754\n",
              "2     1315.638754\n",
              "3     1315.638754\n",
              "4     1314.098505\n",
              "5     1311.018009\n",
              "6     1312.558257\n",
              "7     1172.831065\n",
              "8     1172.831065\n",
              "9     1171.290817\n",
              "10    1030.023376\n",
              "11    1026.942880\n",
              "12    1025.402631\n",
              "13     887.215688\n",
              "14     888.755936\n",
              "15     884.135191\n",
              "16     882.594943\n",
              "17     884.135191\n",
              "18     884.135191\n",
              "19     884.135191\n",
              "20     887.215688\n",
              "21     882.594943\n",
              "22     882.594943\n",
              "23     884.135191\n",
              "dtype: float64"
            ]
          },
          "metadata": {
            "tags": []
          },
          "execution_count": 19
        }
      ]
    },
    {
      "cell_type": "code",
      "metadata": {
        "id": "f-q6A-DloJuP",
        "colab": {
          "base_uri": "https://localhost:8080/"
        },
        "outputId": "e1bea690-0eba-41f7-ea4e-d51ec890c71c"
      },
      "source": [
        "print(mlr.summary())"
      ],
      "execution_count": null,
      "outputs": [
        {
          "output_type": "stream",
          "text": [
            "                                 OLS Regression Results                                \n",
            "=======================================================================================\n",
            "Dep. Variable:      Stock_Index_Price   R-squared (uncentered):                   0.996\n",
            "Model:                            OLS   Adj. R-squared (uncentered):              0.995\n",
            "Method:                 Least Squares   F-statistic:                              2508.\n",
            "Date:                Thu, 17 Dec 2020   Prob (F-statistic):                    1.10e-26\n",
            "Time:                        16:04:27   Log-Likelihood:                         -136.70\n",
            "No. Observations:                  24   AIC:                                      277.4\n",
            "Df Residuals:                      22   BIC:                                      279.8\n",
            "Df Model:                           2                                                  \n",
            "Covariance Type:            nonrobust                                                  \n",
            "=====================================================================================\n",
            "                        coef    std err          t      P>|t|      [0.025      0.975]\n",
            "-------------------------------------------------------------------------------------\n",
            "Interest_Rate       558.9088     34.043     16.418      0.000     488.308     629.510\n",
            "Unemployment_Rate   -15.4025     12.366     -1.246      0.226     -41.047      10.242\n",
            "==============================================================================\n",
            "Omnibus:                        4.661   Durbin-Watson:                   0.513\n",
            "Prob(Omnibus):                  0.097   Jarque-Bera (JB):                3.139\n",
            "Skew:                          -0.870   Prob(JB):                        0.208\n",
            "Kurtosis:                       3.330   Cond. No.                         14.4\n",
            "==============================================================================\n",
            "\n",
            "Warnings:\n",
            "[1] Standard Errors assume that the covariance matrix of the errors is correctly specified.\n"
          ],
          "name": "stdout"
        }
      ]
    },
    {
      "cell_type": "markdown",
      "metadata": {
        "id": "4Pnc0l2ZXXAo"
      },
      "source": [
        "# Calculating error"
      ]
    },
    {
      "cell_type": "code",
      "metadata": {
        "id": "ouYyZfeIW-cV"
      },
      "source": [
        "# calculate MAE, MSE, RMSE\n",
        "from sklearn import metrics\n",
        "print(metrics.mean_absolute_error(Y, Y_pred))\n",
        "print(metrics.mean_squared_error(Y, Y_pred))\n",
        "print(np.sqrt(metrics.mean_squared_error(Y, Y_pred)))\n"
      ],
      "execution_count": null,
      "outputs": []
    },
    {
      "cell_type": "code",
      "metadata": {
        "id": "uvAQL6tcQL0A"
      },
      "source": [
        "# with statsmodels\n",
        "#X = df[['Interest_Rate','Unemployment_Rate']] # here we have 2 variables for multiple regression. \n",
        "#Y = df['Stock_Index_Price']\n",
        "\n",
        "X = pd.DataFrame(X, columns=['Interest_Rate','Unemployment_Rate']) \n",
        "model = sm.OLS(Y, X).fit()\n",
        "model.params\n",
        "predictions = model.predict(X) \n",
        " \n",
        "print_model = model.summary()\n",
        "print(print_model)\n"
      ],
      "execution_count": null,
      "outputs": []
    },
    {
      "cell_type": "code",
      "metadata": {
        "id": "qPlYlRI3pHdi"
      },
      "source": [
        "df = pd.DataFrame(Stock_Market,columns=['Year','Month','Interest_Rate','Unemployment_Rate','Stock_Index_Price'])\n",
        "\n",
        "X = df[['Interest_Rate','Unemployment_Rate']] # here we have 2 variables for multiple regression. \n",
        "Y = df['Stock_Index_Price']\n",
        "# find minimum and max values for X\n",
        "x1min = df['Interest_Rate'].min()\n",
        "print(x1min)\n",
        "x1max = df['Interest_Rate'].max()\n",
        "print(x1max)\n",
        "\n",
        "x2min = df['Unemployment_Rate'].min()\n",
        "print(x2min)\n",
        "x2max = df['Unemployment_Rate'].max()\n",
        "print(x2max)"
      ],
      "execution_count": null,
      "outputs": []
    },
    {
      "cell_type": "code",
      "metadata": {
        "id": "JXEpDjp-qL1n"
      },
      "source": [
        "## Prepare the data for Visualization\n",
        "x , y = np.meshgrid(np.linspace(x1min,x1max,24),np.linspace(x2min,x2max,24))\n",
        "X =pd.DataFrame({'Intrest_Rate':x.ravel(),'Unemployment_Rate':y.ravel()}) # used ravel to prepare array of same shape\n",
        "print(X.shape)\n",
        "f= model.predict(X) \n",
        "f = np.array(f) \n",
        "f.shape"
      ],
      "execution_count": null,
      "outputs": []
    },
    {
      "cell_type": "code",
      "metadata": {
        "id": "s4sTku-qrB9N"
      },
      "source": [
        "fig =plt.figure()\n",
        "ax = fig.add_subplot(111,projection = '3d')\n",
        "ax.scatter(df['Interest_Rate'],df['Unemployment_Rate'],df['Stock_Index_Price'],color ='red', marker ='+')\n",
        "ax.plot_surface(x,y,f.reshape(x.shape),color ='b')\n",
        "ax.set_xlabel('Interest_Rate')\n",
        "ax.set_ylabel('Unemployment_Rate')\n",
        "ax.set_zlabel('Stock_Index_Price')\n",
        "plt.show()"
      ],
      "execution_count": null,
      "outputs": []
    },
    {
      "cell_type": "code",
      "metadata": {
        "id": "mZfW3FduJcuD"
      },
      "source": [
        "df = pd.DataFrame(Stock_Market,columns=['Year','Month','Interest_Rate','Unemployment_Rate','Stock_Index_Price'])\n",
        "\n",
        "X = df[['Interest_Rate','Unemployment_Rate']] # here we have 2 variables for multiple regression. \n",
        "Y = df['Stock_Index_Price']\n",
        "\n",
        "## Prepare the data for Visualization\n",
        "\n",
        "x_surf, y_surf = np.meshgrid(np.linspace(df.Interest_Rate.min(), df.Interest_Rate.max(), 100),np.linspace(df.Unemployment_Rate.min(), df.Unemployment_Rate.max(), 100))\n",
        "onlyX = pd.DataFrame({'Price': x_surf.ravel(), 'AdSpends': y_surf.ravel()})\n",
        "fittedY= model.predict(onlyX)\n",
        "## convert the predicted result in an array\n",
        "fittedY=np.array(fittedY)"
      ],
      "execution_count": null,
      "outputs": []
    },
    {
      "cell_type": "code",
      "metadata": {
        "id": "q-x7r7jjJmqR"
      },
      "source": [
        " "
      ],
      "execution_count": null,
      "outputs": []
    },
    {
      "cell_type": "code",
      "metadata": {
        "id": "uZvL4fqAn-ce"
      },
      "source": [
        ""
      ],
      "execution_count": null,
      "outputs": []
    }
  ]
}