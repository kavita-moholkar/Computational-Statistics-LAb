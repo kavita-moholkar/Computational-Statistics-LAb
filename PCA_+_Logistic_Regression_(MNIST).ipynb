{
  "nbformat": 4,
  "nbformat_minor": 0,
  "metadata": {
    "colab": {
      "name": "PCA + Logistic Regression (MNIST).ipynb",
      "provenance": []
    },
    "kernelspec": {
      "name": "python3",
      "display_name": "Python 3"
    }
  },
  "cells": [
    {
      "cell_type": "markdown",
      "metadata": {
        "id": "T5G8vS6_sbcY"
      },
      "source": [
        "## **PCA + Logistic Regression (MNIST)**\n",
        "The MNIST database of handwritten digits, available from this page, has a training set of 60,000 examples, and a test set of 10,000 examples. It is a subset of a larger set available from NIST. The digits have been size-normalized and centered in a fixed-size image.\n",
        "\n",
        "Note: The MNIST database of handwritten digits is available on the following website: MNIST Dataset http://yann.lecun.com/exdb/mnist/"
      ]
    },
    {
      "cell_type": "code",
      "metadata": {
        "id": "k4mo5lIhlLtQ"
      },
      "source": [
        "from sklearn.datasets import fetch_openml\n",
        "from sklearn.decomposition import PCA\n",
        "from sklearn.preprocessing import StandardScaler\n",
        "import pandas as pd\n",
        "from sklearn.model_selection import train_test_split\n",
        "from sklearn import  metrics"
      ],
      "execution_count": null,
      "outputs": []
    },
    {
      "cell_type": "code",
      "metadata": {
        "id": "83G_vY-klLqL",
        "colab": {
          "base_uri": "https://localhost:8080/"
        },
        "outputId": "4ff7f020-ffd0-431a-cb5e-f6415b93df3c"
      },
      "source": [
        "mnist = fetch_openml('mnist_784')\n",
        "mnist"
      ],
      "execution_count": null,
      "outputs": [
        {
          "output_type": "execute_result",
          "data": {
            "text/plain": [
              "{'DESCR': \"**Author**: Yann LeCun, Corinna Cortes, Christopher J.C. Burges  \\n**Source**: [MNIST Website](http://yann.lecun.com/exdb/mnist/) - Date unknown  \\n**Please cite**:  \\n\\nThe MNIST database of handwritten digits with 784 features, raw data available at: http://yann.lecun.com/exdb/mnist/. It can be split in a training set of the first 60,000 examples, and a test set of 10,000 examples  \\n\\nIt is a subset of a larger set available from NIST. The digits have been size-normalized and centered in a fixed-size image. It is a good database for people who want to try learning techniques and pattern recognition methods on real-world data while spending minimal efforts on preprocessing and formatting. The original black and white (bilevel) images from NIST were size normalized to fit in a 20x20 pixel box while preserving their aspect ratio. The resulting images contain grey levels as a result of the anti-aliasing technique used by the normalization algorithm. the images were centered in a 28x28 image by computing the center of mass of the pixels, and translating the image so as to position this point at the center of the 28x28 field.  \\n\\nWith some classification methods (particularly template-based methods, such as SVM and K-nearest neighbors), the error rate improves when the digits are centered by bounding box rather than center of mass. If you do this kind of pre-processing, you should report it in your publications. The MNIST database was constructed from NIST's NIST originally designated SD-3 as their training set and SD-1 as their test set. However, SD-3 is much cleaner and easier to recognize than SD-1. The reason for this can be found on the fact that SD-3 was collected among Census Bureau employees, while SD-1 was collected among high-school students. Drawing sensible conclusions from learning experiments requires that the result be independent of the choice of training set and test among the complete set of samples. Therefore it was necessary to build a new database by mixing NIST's datasets.  \\n\\nThe MNIST training set is composed of 30,000 patterns from SD-3 and 30,000 patterns from SD-1. Our test set was composed of 5,000 patterns from SD-3 and 5,000 patterns from SD-1. The 60,000 pattern training set contained examples from approximately 250 writers. We made sure that the sets of writers of the training set and test set were disjoint. SD-1 contains 58,527 digit images written by 500 different writers. In contrast to SD-3, where blocks of data from each writer appeared in sequence, the data in SD-1 is scrambled. Writer identities for SD-1 is available and we used this information to unscramble the writers. We then split SD-1 in two: characters written by the first 250 writers went into our new training set. The remaining 250 writers were placed in our test set. Thus we had two sets with nearly 30,000 examples each. The new training set was completed with enough examples from SD-3, starting at pattern # 0, to make a full set of 60,000 training patterns. Similarly, the new test set was completed with SD-3 examples starting at pattern # 35,000 to make a full set with 60,000 test patterns. Only a subset of 10,000 test images (5,000 from SD-1 and 5,000 from SD-3) is available on this site. The full 60,000 sample training set is available.\\n\\nDownloaded from openml.org.\",\n",
              " 'categories': None,\n",
              " 'data':        pixel1  pixel2  pixel3  pixel4  ...  pixel781  pixel782  pixel783  pixel784\n",
              " 0         0.0     0.0     0.0     0.0  ...       0.0       0.0       0.0       0.0\n",
              " 1         0.0     0.0     0.0     0.0  ...       0.0       0.0       0.0       0.0\n",
              " 2         0.0     0.0     0.0     0.0  ...       0.0       0.0       0.0       0.0\n",
              " 3         0.0     0.0     0.0     0.0  ...       0.0       0.0       0.0       0.0\n",
              " 4         0.0     0.0     0.0     0.0  ...       0.0       0.0       0.0       0.0\n",
              " ...       ...     ...     ...     ...  ...       ...       ...       ...       ...\n",
              " 69995     0.0     0.0     0.0     0.0  ...       0.0       0.0       0.0       0.0\n",
              " 69996     0.0     0.0     0.0     0.0  ...       0.0       0.0       0.0       0.0\n",
              " 69997     0.0     0.0     0.0     0.0  ...       0.0       0.0       0.0       0.0\n",
              " 69998     0.0     0.0     0.0     0.0  ...       0.0       0.0       0.0       0.0\n",
              " 69999     0.0     0.0     0.0     0.0  ...       0.0       0.0       0.0       0.0\n",
              " \n",
              " [70000 rows x 784 columns],\n",
              " 'details': {'creator': ['Yann LeCun',\n",
              "   'Corinna Cortes',\n",
              "   'Christopher J.C. Burges'],\n",
              "  'default_target_attribute': 'class',\n",
              "  'description_version': '1',\n",
              "  'file_id': '52667',\n",
              "  'format': 'ARFF',\n",
              "  'id': '554',\n",
              "  'language': 'English',\n",
              "  'licence': 'Public',\n",
              "  'md5_checksum': '0298d579eb1b86163de7723944c7e495',\n",
              "  'name': 'mnist_784',\n",
              "  'processing_date': '2020-11-20 20:12:09',\n",
              "  'status': 'active',\n",
              "  'tag': ['AzurePilot',\n",
              "   'OpenML-CC18',\n",
              "   'OpenML100',\n",
              "   'study_1',\n",
              "   'study_123',\n",
              "   'study_41',\n",
              "   'study_99',\n",
              "   'vision'],\n",
              "  'upload_date': '2014-09-29T03:28:38',\n",
              "  'url': 'https://www.openml.org/data/v1/download/52667/mnist_784.arff',\n",
              "  'version': '1',\n",
              "  'visibility': 'public'},\n",
              " 'feature_names': ['pixel1',\n",
              "  'pixel2',\n",
              "  'pixel3',\n",
              "  'pixel4',\n",
              "  'pixel5',\n",
              "  'pixel6',\n",
              "  'pixel7',\n",
              "  'pixel8',\n",
              "  'pixel9',\n",
              "  'pixel10',\n",
              "  'pixel11',\n",
              "  'pixel12',\n",
              "  'pixel13',\n",
              "  'pixel14',\n",
              "  'pixel15',\n",
              "  'pixel16',\n",
              "  'pixel17',\n",
              "  'pixel18',\n",
              "  'pixel19',\n",
              "  'pixel20',\n",
              "  'pixel21',\n",
              "  'pixel22',\n",
              "  'pixel23',\n",
              "  'pixel24',\n",
              "  'pixel25',\n",
              "  'pixel26',\n",
              "  'pixel27',\n",
              "  'pixel28',\n",
              "  'pixel29',\n",
              "  'pixel30',\n",
              "  'pixel31',\n",
              "  'pixel32',\n",
              "  'pixel33',\n",
              "  'pixel34',\n",
              "  'pixel35',\n",
              "  'pixel36',\n",
              "  'pixel37',\n",
              "  'pixel38',\n",
              "  'pixel39',\n",
              "  'pixel40',\n",
              "  'pixel41',\n",
              "  'pixel42',\n",
              "  'pixel43',\n",
              "  'pixel44',\n",
              "  'pixel45',\n",
              "  'pixel46',\n",
              "  'pixel47',\n",
              "  'pixel48',\n",
              "  'pixel49',\n",
              "  'pixel50',\n",
              "  'pixel51',\n",
              "  'pixel52',\n",
              "  'pixel53',\n",
              "  'pixel54',\n",
              "  'pixel55',\n",
              "  'pixel56',\n",
              "  'pixel57',\n",
              "  'pixel58',\n",
              "  'pixel59',\n",
              "  'pixel60',\n",
              "  'pixel61',\n",
              "  'pixel62',\n",
              "  'pixel63',\n",
              "  'pixel64',\n",
              "  'pixel65',\n",
              "  'pixel66',\n",
              "  'pixel67',\n",
              "  'pixel68',\n",
              "  'pixel69',\n",
              "  'pixel70',\n",
              "  'pixel71',\n",
              "  'pixel72',\n",
              "  'pixel73',\n",
              "  'pixel74',\n",
              "  'pixel75',\n",
              "  'pixel76',\n",
              "  'pixel77',\n",
              "  'pixel78',\n",
              "  'pixel79',\n",
              "  'pixel80',\n",
              "  'pixel81',\n",
              "  'pixel82',\n",
              "  'pixel83',\n",
              "  'pixel84',\n",
              "  'pixel85',\n",
              "  'pixel86',\n",
              "  'pixel87',\n",
              "  'pixel88',\n",
              "  'pixel89',\n",
              "  'pixel90',\n",
              "  'pixel91',\n",
              "  'pixel92',\n",
              "  'pixel93',\n",
              "  'pixel94',\n",
              "  'pixel95',\n",
              "  'pixel96',\n",
              "  'pixel97',\n",
              "  'pixel98',\n",
              "  'pixel99',\n",
              "  'pixel100',\n",
              "  'pixel101',\n",
              "  'pixel102',\n",
              "  'pixel103',\n",
              "  'pixel104',\n",
              "  'pixel105',\n",
              "  'pixel106',\n",
              "  'pixel107',\n",
              "  'pixel108',\n",
              "  'pixel109',\n",
              "  'pixel110',\n",
              "  'pixel111',\n",
              "  'pixel112',\n",
              "  'pixel113',\n",
              "  'pixel114',\n",
              "  'pixel115',\n",
              "  'pixel116',\n",
              "  'pixel117',\n",
              "  'pixel118',\n",
              "  'pixel119',\n",
              "  'pixel120',\n",
              "  'pixel121',\n",
              "  'pixel122',\n",
              "  'pixel123',\n",
              "  'pixel124',\n",
              "  'pixel125',\n",
              "  'pixel126',\n",
              "  'pixel127',\n",
              "  'pixel128',\n",
              "  'pixel129',\n",
              "  'pixel130',\n",
              "  'pixel131',\n",
              "  'pixel132',\n",
              "  'pixel133',\n",
              "  'pixel134',\n",
              "  'pixel135',\n",
              "  'pixel136',\n",
              "  'pixel137',\n",
              "  'pixel138',\n",
              "  'pixel139',\n",
              "  'pixel140',\n",
              "  'pixel141',\n",
              "  'pixel142',\n",
              "  'pixel143',\n",
              "  'pixel144',\n",
              "  'pixel145',\n",
              "  'pixel146',\n",
              "  'pixel147',\n",
              "  'pixel148',\n",
              "  'pixel149',\n",
              "  'pixel150',\n",
              "  'pixel151',\n",
              "  'pixel152',\n",
              "  'pixel153',\n",
              "  'pixel154',\n",
              "  'pixel155',\n",
              "  'pixel156',\n",
              "  'pixel157',\n",
              "  'pixel158',\n",
              "  'pixel159',\n",
              "  'pixel160',\n",
              "  'pixel161',\n",
              "  'pixel162',\n",
              "  'pixel163',\n",
              "  'pixel164',\n",
              "  'pixel165',\n",
              "  'pixel166',\n",
              "  'pixel167',\n",
              "  'pixel168',\n",
              "  'pixel169',\n",
              "  'pixel170',\n",
              "  'pixel171',\n",
              "  'pixel172',\n",
              "  'pixel173',\n",
              "  'pixel174',\n",
              "  'pixel175',\n",
              "  'pixel176',\n",
              "  'pixel177',\n",
              "  'pixel178',\n",
              "  'pixel179',\n",
              "  'pixel180',\n",
              "  'pixel181',\n",
              "  'pixel182',\n",
              "  'pixel183',\n",
              "  'pixel184',\n",
              "  'pixel185',\n",
              "  'pixel186',\n",
              "  'pixel187',\n",
              "  'pixel188',\n",
              "  'pixel189',\n",
              "  'pixel190',\n",
              "  'pixel191',\n",
              "  'pixel192',\n",
              "  'pixel193',\n",
              "  'pixel194',\n",
              "  'pixel195',\n",
              "  'pixel196',\n",
              "  'pixel197',\n",
              "  'pixel198',\n",
              "  'pixel199',\n",
              "  'pixel200',\n",
              "  'pixel201',\n",
              "  'pixel202',\n",
              "  'pixel203',\n",
              "  'pixel204',\n",
              "  'pixel205',\n",
              "  'pixel206',\n",
              "  'pixel207',\n",
              "  'pixel208',\n",
              "  'pixel209',\n",
              "  'pixel210',\n",
              "  'pixel211',\n",
              "  'pixel212',\n",
              "  'pixel213',\n",
              "  'pixel214',\n",
              "  'pixel215',\n",
              "  'pixel216',\n",
              "  'pixel217',\n",
              "  'pixel218',\n",
              "  'pixel219',\n",
              "  'pixel220',\n",
              "  'pixel221',\n",
              "  'pixel222',\n",
              "  'pixel223',\n",
              "  'pixel224',\n",
              "  'pixel225',\n",
              "  'pixel226',\n",
              "  'pixel227',\n",
              "  'pixel228',\n",
              "  'pixel229',\n",
              "  'pixel230',\n",
              "  'pixel231',\n",
              "  'pixel232',\n",
              "  'pixel233',\n",
              "  'pixel234',\n",
              "  'pixel235',\n",
              "  'pixel236',\n",
              "  'pixel237',\n",
              "  'pixel238',\n",
              "  'pixel239',\n",
              "  'pixel240',\n",
              "  'pixel241',\n",
              "  'pixel242',\n",
              "  'pixel243',\n",
              "  'pixel244',\n",
              "  'pixel245',\n",
              "  'pixel246',\n",
              "  'pixel247',\n",
              "  'pixel248',\n",
              "  'pixel249',\n",
              "  'pixel250',\n",
              "  'pixel251',\n",
              "  'pixel252',\n",
              "  'pixel253',\n",
              "  'pixel254',\n",
              "  'pixel255',\n",
              "  'pixel256',\n",
              "  'pixel257',\n",
              "  'pixel258',\n",
              "  'pixel259',\n",
              "  'pixel260',\n",
              "  'pixel261',\n",
              "  'pixel262',\n",
              "  'pixel263',\n",
              "  'pixel264',\n",
              "  'pixel265',\n",
              "  'pixel266',\n",
              "  'pixel267',\n",
              "  'pixel268',\n",
              "  'pixel269',\n",
              "  'pixel270',\n",
              "  'pixel271',\n",
              "  'pixel272',\n",
              "  'pixel273',\n",
              "  'pixel274',\n",
              "  'pixel275',\n",
              "  'pixel276',\n",
              "  'pixel277',\n",
              "  'pixel278',\n",
              "  'pixel279',\n",
              "  'pixel280',\n",
              "  'pixel281',\n",
              "  'pixel282',\n",
              "  'pixel283',\n",
              "  'pixel284',\n",
              "  'pixel285',\n",
              "  'pixel286',\n",
              "  'pixel287',\n",
              "  'pixel288',\n",
              "  'pixel289',\n",
              "  'pixel290',\n",
              "  'pixel291',\n",
              "  'pixel292',\n",
              "  'pixel293',\n",
              "  'pixel294',\n",
              "  'pixel295',\n",
              "  'pixel296',\n",
              "  'pixel297',\n",
              "  'pixel298',\n",
              "  'pixel299',\n",
              "  'pixel300',\n",
              "  'pixel301',\n",
              "  'pixel302',\n",
              "  'pixel303',\n",
              "  'pixel304',\n",
              "  'pixel305',\n",
              "  'pixel306',\n",
              "  'pixel307',\n",
              "  'pixel308',\n",
              "  'pixel309',\n",
              "  'pixel310',\n",
              "  'pixel311',\n",
              "  'pixel312',\n",
              "  'pixel313',\n",
              "  'pixel314',\n",
              "  'pixel315',\n",
              "  'pixel316',\n",
              "  'pixel317',\n",
              "  'pixel318',\n",
              "  'pixel319',\n",
              "  'pixel320',\n",
              "  'pixel321',\n",
              "  'pixel322',\n",
              "  'pixel323',\n",
              "  'pixel324',\n",
              "  'pixel325',\n",
              "  'pixel326',\n",
              "  'pixel327',\n",
              "  'pixel328',\n",
              "  'pixel329',\n",
              "  'pixel330',\n",
              "  'pixel331',\n",
              "  'pixel332',\n",
              "  'pixel333',\n",
              "  'pixel334',\n",
              "  'pixel335',\n",
              "  'pixel336',\n",
              "  'pixel337',\n",
              "  'pixel338',\n",
              "  'pixel339',\n",
              "  'pixel340',\n",
              "  'pixel341',\n",
              "  'pixel342',\n",
              "  'pixel343',\n",
              "  'pixel344',\n",
              "  'pixel345',\n",
              "  'pixel346',\n",
              "  'pixel347',\n",
              "  'pixel348',\n",
              "  'pixel349',\n",
              "  'pixel350',\n",
              "  'pixel351',\n",
              "  'pixel352',\n",
              "  'pixel353',\n",
              "  'pixel354',\n",
              "  'pixel355',\n",
              "  'pixel356',\n",
              "  'pixel357',\n",
              "  'pixel358',\n",
              "  'pixel359',\n",
              "  'pixel360',\n",
              "  'pixel361',\n",
              "  'pixel362',\n",
              "  'pixel363',\n",
              "  'pixel364',\n",
              "  'pixel365',\n",
              "  'pixel366',\n",
              "  'pixel367',\n",
              "  'pixel368',\n",
              "  'pixel369',\n",
              "  'pixel370',\n",
              "  'pixel371',\n",
              "  'pixel372',\n",
              "  'pixel373',\n",
              "  'pixel374',\n",
              "  'pixel375',\n",
              "  'pixel376',\n",
              "  'pixel377',\n",
              "  'pixel378',\n",
              "  'pixel379',\n",
              "  'pixel380',\n",
              "  'pixel381',\n",
              "  'pixel382',\n",
              "  'pixel383',\n",
              "  'pixel384',\n",
              "  'pixel385',\n",
              "  'pixel386',\n",
              "  'pixel387',\n",
              "  'pixel388',\n",
              "  'pixel389',\n",
              "  'pixel390',\n",
              "  'pixel391',\n",
              "  'pixel392',\n",
              "  'pixel393',\n",
              "  'pixel394',\n",
              "  'pixel395',\n",
              "  'pixel396',\n",
              "  'pixel397',\n",
              "  'pixel398',\n",
              "  'pixel399',\n",
              "  'pixel400',\n",
              "  'pixel401',\n",
              "  'pixel402',\n",
              "  'pixel403',\n",
              "  'pixel404',\n",
              "  'pixel405',\n",
              "  'pixel406',\n",
              "  'pixel407',\n",
              "  'pixel408',\n",
              "  'pixel409',\n",
              "  'pixel410',\n",
              "  'pixel411',\n",
              "  'pixel412',\n",
              "  'pixel413',\n",
              "  'pixel414',\n",
              "  'pixel415',\n",
              "  'pixel416',\n",
              "  'pixel417',\n",
              "  'pixel418',\n",
              "  'pixel419',\n",
              "  'pixel420',\n",
              "  'pixel421',\n",
              "  'pixel422',\n",
              "  'pixel423',\n",
              "  'pixel424',\n",
              "  'pixel425',\n",
              "  'pixel426',\n",
              "  'pixel427',\n",
              "  'pixel428',\n",
              "  'pixel429',\n",
              "  'pixel430',\n",
              "  'pixel431',\n",
              "  'pixel432',\n",
              "  'pixel433',\n",
              "  'pixel434',\n",
              "  'pixel435',\n",
              "  'pixel436',\n",
              "  'pixel437',\n",
              "  'pixel438',\n",
              "  'pixel439',\n",
              "  'pixel440',\n",
              "  'pixel441',\n",
              "  'pixel442',\n",
              "  'pixel443',\n",
              "  'pixel444',\n",
              "  'pixel445',\n",
              "  'pixel446',\n",
              "  'pixel447',\n",
              "  'pixel448',\n",
              "  'pixel449',\n",
              "  'pixel450',\n",
              "  'pixel451',\n",
              "  'pixel452',\n",
              "  'pixel453',\n",
              "  'pixel454',\n",
              "  'pixel455',\n",
              "  'pixel456',\n",
              "  'pixel457',\n",
              "  'pixel458',\n",
              "  'pixel459',\n",
              "  'pixel460',\n",
              "  'pixel461',\n",
              "  'pixel462',\n",
              "  'pixel463',\n",
              "  'pixel464',\n",
              "  'pixel465',\n",
              "  'pixel466',\n",
              "  'pixel467',\n",
              "  'pixel468',\n",
              "  'pixel469',\n",
              "  'pixel470',\n",
              "  'pixel471',\n",
              "  'pixel472',\n",
              "  'pixel473',\n",
              "  'pixel474',\n",
              "  'pixel475',\n",
              "  'pixel476',\n",
              "  'pixel477',\n",
              "  'pixel478',\n",
              "  'pixel479',\n",
              "  'pixel480',\n",
              "  'pixel481',\n",
              "  'pixel482',\n",
              "  'pixel483',\n",
              "  'pixel484',\n",
              "  'pixel485',\n",
              "  'pixel486',\n",
              "  'pixel487',\n",
              "  'pixel488',\n",
              "  'pixel489',\n",
              "  'pixel490',\n",
              "  'pixel491',\n",
              "  'pixel492',\n",
              "  'pixel493',\n",
              "  'pixel494',\n",
              "  'pixel495',\n",
              "  'pixel496',\n",
              "  'pixel497',\n",
              "  'pixel498',\n",
              "  'pixel499',\n",
              "  'pixel500',\n",
              "  'pixel501',\n",
              "  'pixel502',\n",
              "  'pixel503',\n",
              "  'pixel504',\n",
              "  'pixel505',\n",
              "  'pixel506',\n",
              "  'pixel507',\n",
              "  'pixel508',\n",
              "  'pixel509',\n",
              "  'pixel510',\n",
              "  'pixel511',\n",
              "  'pixel512',\n",
              "  'pixel513',\n",
              "  'pixel514',\n",
              "  'pixel515',\n",
              "  'pixel516',\n",
              "  'pixel517',\n",
              "  'pixel518',\n",
              "  'pixel519',\n",
              "  'pixel520',\n",
              "  'pixel521',\n",
              "  'pixel522',\n",
              "  'pixel523',\n",
              "  'pixel524',\n",
              "  'pixel525',\n",
              "  'pixel526',\n",
              "  'pixel527',\n",
              "  'pixel528',\n",
              "  'pixel529',\n",
              "  'pixel530',\n",
              "  'pixel531',\n",
              "  'pixel532',\n",
              "  'pixel533',\n",
              "  'pixel534',\n",
              "  'pixel535',\n",
              "  'pixel536',\n",
              "  'pixel537',\n",
              "  'pixel538',\n",
              "  'pixel539',\n",
              "  'pixel540',\n",
              "  'pixel541',\n",
              "  'pixel542',\n",
              "  'pixel543',\n",
              "  'pixel544',\n",
              "  'pixel545',\n",
              "  'pixel546',\n",
              "  'pixel547',\n",
              "  'pixel548',\n",
              "  'pixel549',\n",
              "  'pixel550',\n",
              "  'pixel551',\n",
              "  'pixel552',\n",
              "  'pixel553',\n",
              "  'pixel554',\n",
              "  'pixel555',\n",
              "  'pixel556',\n",
              "  'pixel557',\n",
              "  'pixel558',\n",
              "  'pixel559',\n",
              "  'pixel560',\n",
              "  'pixel561',\n",
              "  'pixel562',\n",
              "  'pixel563',\n",
              "  'pixel564',\n",
              "  'pixel565',\n",
              "  'pixel566',\n",
              "  'pixel567',\n",
              "  'pixel568',\n",
              "  'pixel569',\n",
              "  'pixel570',\n",
              "  'pixel571',\n",
              "  'pixel572',\n",
              "  'pixel573',\n",
              "  'pixel574',\n",
              "  'pixel575',\n",
              "  'pixel576',\n",
              "  'pixel577',\n",
              "  'pixel578',\n",
              "  'pixel579',\n",
              "  'pixel580',\n",
              "  'pixel581',\n",
              "  'pixel582',\n",
              "  'pixel583',\n",
              "  'pixel584',\n",
              "  'pixel585',\n",
              "  'pixel586',\n",
              "  'pixel587',\n",
              "  'pixel588',\n",
              "  'pixel589',\n",
              "  'pixel590',\n",
              "  'pixel591',\n",
              "  'pixel592',\n",
              "  'pixel593',\n",
              "  'pixel594',\n",
              "  'pixel595',\n",
              "  'pixel596',\n",
              "  'pixel597',\n",
              "  'pixel598',\n",
              "  'pixel599',\n",
              "  'pixel600',\n",
              "  'pixel601',\n",
              "  'pixel602',\n",
              "  'pixel603',\n",
              "  'pixel604',\n",
              "  'pixel605',\n",
              "  'pixel606',\n",
              "  'pixel607',\n",
              "  'pixel608',\n",
              "  'pixel609',\n",
              "  'pixel610',\n",
              "  'pixel611',\n",
              "  'pixel612',\n",
              "  'pixel613',\n",
              "  'pixel614',\n",
              "  'pixel615',\n",
              "  'pixel616',\n",
              "  'pixel617',\n",
              "  'pixel618',\n",
              "  'pixel619',\n",
              "  'pixel620',\n",
              "  'pixel621',\n",
              "  'pixel622',\n",
              "  'pixel623',\n",
              "  'pixel624',\n",
              "  'pixel625',\n",
              "  'pixel626',\n",
              "  'pixel627',\n",
              "  'pixel628',\n",
              "  'pixel629',\n",
              "  'pixel630',\n",
              "  'pixel631',\n",
              "  'pixel632',\n",
              "  'pixel633',\n",
              "  'pixel634',\n",
              "  'pixel635',\n",
              "  'pixel636',\n",
              "  'pixel637',\n",
              "  'pixel638',\n",
              "  'pixel639',\n",
              "  'pixel640',\n",
              "  'pixel641',\n",
              "  'pixel642',\n",
              "  'pixel643',\n",
              "  'pixel644',\n",
              "  'pixel645',\n",
              "  'pixel646',\n",
              "  'pixel647',\n",
              "  'pixel648',\n",
              "  'pixel649',\n",
              "  'pixel650',\n",
              "  'pixel651',\n",
              "  'pixel652',\n",
              "  'pixel653',\n",
              "  'pixel654',\n",
              "  'pixel655',\n",
              "  'pixel656',\n",
              "  'pixel657',\n",
              "  'pixel658',\n",
              "  'pixel659',\n",
              "  'pixel660',\n",
              "  'pixel661',\n",
              "  'pixel662',\n",
              "  'pixel663',\n",
              "  'pixel664',\n",
              "  'pixel665',\n",
              "  'pixel666',\n",
              "  'pixel667',\n",
              "  'pixel668',\n",
              "  'pixel669',\n",
              "  'pixel670',\n",
              "  'pixel671',\n",
              "  'pixel672',\n",
              "  'pixel673',\n",
              "  'pixel674',\n",
              "  'pixel675',\n",
              "  'pixel676',\n",
              "  'pixel677',\n",
              "  'pixel678',\n",
              "  'pixel679',\n",
              "  'pixel680',\n",
              "  'pixel681',\n",
              "  'pixel682',\n",
              "  'pixel683',\n",
              "  'pixel684',\n",
              "  'pixel685',\n",
              "  'pixel686',\n",
              "  'pixel687',\n",
              "  'pixel688',\n",
              "  'pixel689',\n",
              "  'pixel690',\n",
              "  'pixel691',\n",
              "  'pixel692',\n",
              "  'pixel693',\n",
              "  'pixel694',\n",
              "  'pixel695',\n",
              "  'pixel696',\n",
              "  'pixel697',\n",
              "  'pixel698',\n",
              "  'pixel699',\n",
              "  'pixel700',\n",
              "  'pixel701',\n",
              "  'pixel702',\n",
              "  'pixel703',\n",
              "  'pixel704',\n",
              "  'pixel705',\n",
              "  'pixel706',\n",
              "  'pixel707',\n",
              "  'pixel708',\n",
              "  'pixel709',\n",
              "  'pixel710',\n",
              "  'pixel711',\n",
              "  'pixel712',\n",
              "  'pixel713',\n",
              "  'pixel714',\n",
              "  'pixel715',\n",
              "  'pixel716',\n",
              "  'pixel717',\n",
              "  'pixel718',\n",
              "  'pixel719',\n",
              "  'pixel720',\n",
              "  'pixel721',\n",
              "  'pixel722',\n",
              "  'pixel723',\n",
              "  'pixel724',\n",
              "  'pixel725',\n",
              "  'pixel726',\n",
              "  'pixel727',\n",
              "  'pixel728',\n",
              "  'pixel729',\n",
              "  'pixel730',\n",
              "  'pixel731',\n",
              "  'pixel732',\n",
              "  'pixel733',\n",
              "  'pixel734',\n",
              "  'pixel735',\n",
              "  'pixel736',\n",
              "  'pixel737',\n",
              "  'pixel738',\n",
              "  'pixel739',\n",
              "  'pixel740',\n",
              "  'pixel741',\n",
              "  'pixel742',\n",
              "  'pixel743',\n",
              "  'pixel744',\n",
              "  'pixel745',\n",
              "  'pixel746',\n",
              "  'pixel747',\n",
              "  'pixel748',\n",
              "  'pixel749',\n",
              "  'pixel750',\n",
              "  'pixel751',\n",
              "  'pixel752',\n",
              "  'pixel753',\n",
              "  'pixel754',\n",
              "  'pixel755',\n",
              "  'pixel756',\n",
              "  'pixel757',\n",
              "  'pixel758',\n",
              "  'pixel759',\n",
              "  'pixel760',\n",
              "  'pixel761',\n",
              "  'pixel762',\n",
              "  'pixel763',\n",
              "  'pixel764',\n",
              "  'pixel765',\n",
              "  'pixel766',\n",
              "  'pixel767',\n",
              "  'pixel768',\n",
              "  'pixel769',\n",
              "  'pixel770',\n",
              "  'pixel771',\n",
              "  'pixel772',\n",
              "  'pixel773',\n",
              "  'pixel774',\n",
              "  'pixel775',\n",
              "  'pixel776',\n",
              "  'pixel777',\n",
              "  'pixel778',\n",
              "  'pixel779',\n",
              "  'pixel780',\n",
              "  'pixel781',\n",
              "  'pixel782',\n",
              "  'pixel783',\n",
              "  'pixel784'],\n",
              " 'frame':        pixel1  pixel2  pixel3  pixel4  ...  pixel782  pixel783  pixel784  class\n",
              " 0         0.0     0.0     0.0     0.0  ...       0.0       0.0       0.0      5\n",
              " 1         0.0     0.0     0.0     0.0  ...       0.0       0.0       0.0      0\n",
              " 2         0.0     0.0     0.0     0.0  ...       0.0       0.0       0.0      4\n",
              " 3         0.0     0.0     0.0     0.0  ...       0.0       0.0       0.0      1\n",
              " 4         0.0     0.0     0.0     0.0  ...       0.0       0.0       0.0      9\n",
              " ...       ...     ...     ...     ...  ...       ...       ...       ...    ...\n",
              " 69995     0.0     0.0     0.0     0.0  ...       0.0       0.0       0.0      2\n",
              " 69996     0.0     0.0     0.0     0.0  ...       0.0       0.0       0.0      3\n",
              " 69997     0.0     0.0     0.0     0.0  ...       0.0       0.0       0.0      4\n",
              " 69998     0.0     0.0     0.0     0.0  ...       0.0       0.0       0.0      5\n",
              " 69999     0.0     0.0     0.0     0.0  ...       0.0       0.0       0.0      6\n",
              " \n",
              " [70000 rows x 785 columns],\n",
              " 'target': 0        5\n",
              " 1        0\n",
              " 2        4\n",
              " 3        1\n",
              " 4        9\n",
              "         ..\n",
              " 69995    2\n",
              " 69996    3\n",
              " 69997    4\n",
              " 69998    5\n",
              " 69999    6\n",
              " Name: class, Length: 70000, dtype: category\n",
              " Categories (10, object): ['0', '1', '2', '3', ..., '6', '7', '8', '9'],\n",
              " 'target_names': ['class'],\n",
              " 'url': 'https://www.openml.org/d/554'}"
            ]
          },
          "metadata": {},
          "execution_count": 2
        }
      ]
    },
    {
      "cell_type": "code",
      "metadata": {
        "id": "XHwKJElHlLm7"
      },
      "source": [
        "train_img,test_img,train_lbl,test_lbl =train_test_split(mnist.data,mnist.target,test_size = 0.3,random_state =123)\n"
      ],
      "execution_count": null,
      "outputs": []
    },
    {
      "cell_type": "code",
      "metadata": {
        "id": "xTCZSaSzncA_",
        "colab": {
          "base_uri": "https://localhost:8080/"
        },
        "outputId": "c6e490ae-1e29-49ee-8d43-e8bd60280882"
      },
      "source": [
        "train_img.shape"
      ],
      "execution_count": null,
      "outputs": [
        {
          "output_type": "execute_result",
          "data": {
            "text/plain": [
              "(49000, 784)"
            ]
          },
          "metadata": {},
          "execution_count": 4
        }
      ]
    },
    {
      "cell_type": "code",
      "metadata": {
        "id": "ZiYbOaVslLkz",
        "colab": {
          "base_uri": "https://localhost:8080/",
          "height": 549
        },
        "outputId": "31a98b6e-f21f-404a-c365-7edabba83598"
      },
      "source": [
        "train_img[0]"
      ],
      "execution_count": null,
      "outputs": [
        {
          "output_type": "error",
          "ename": "KeyError",
          "evalue": "ignored",
          "traceback": [
            "\u001b[0;31m---------------------------------------------------------------------------\u001b[0m",
            "\u001b[0;31mKeyError\u001b[0m                                  Traceback (most recent call last)",
            "\u001b[0;32m/usr/local/lib/python3.7/dist-packages/pandas/core/indexes/base.py\u001b[0m in \u001b[0;36mget_loc\u001b[0;34m(self, key, method, tolerance)\u001b[0m\n\u001b[1;32m   3360\u001b[0m             \u001b[0;32mtry\u001b[0m\u001b[0;34m:\u001b[0m\u001b[0;34m\u001b[0m\u001b[0;34m\u001b[0m\u001b[0m\n\u001b[0;32m-> 3361\u001b[0;31m                 \u001b[0;32mreturn\u001b[0m \u001b[0mself\u001b[0m\u001b[0;34m.\u001b[0m\u001b[0m_engine\u001b[0m\u001b[0;34m.\u001b[0m\u001b[0mget_loc\u001b[0m\u001b[0;34m(\u001b[0m\u001b[0mcasted_key\u001b[0m\u001b[0;34m)\u001b[0m\u001b[0;34m\u001b[0m\u001b[0;34m\u001b[0m\u001b[0m\n\u001b[0m\u001b[1;32m   3362\u001b[0m             \u001b[0;32mexcept\u001b[0m \u001b[0mKeyError\u001b[0m \u001b[0;32mas\u001b[0m \u001b[0merr\u001b[0m\u001b[0;34m:\u001b[0m\u001b[0;34m\u001b[0m\u001b[0;34m\u001b[0m\u001b[0m\n",
            "\u001b[0;32m/usr/local/lib/python3.7/dist-packages/pandas/_libs/index.pyx\u001b[0m in \u001b[0;36mpandas._libs.index.IndexEngine.get_loc\u001b[0;34m()\u001b[0m\n",
            "\u001b[0;32m/usr/local/lib/python3.7/dist-packages/pandas/_libs/index.pyx\u001b[0m in \u001b[0;36mpandas._libs.index.IndexEngine.get_loc\u001b[0;34m()\u001b[0m\n",
            "\u001b[0;32mpandas/_libs/hashtable_class_helper.pxi\u001b[0m in \u001b[0;36mpandas._libs.hashtable.PyObjectHashTable.get_item\u001b[0;34m()\u001b[0m\n",
            "\u001b[0;32mpandas/_libs/hashtable_class_helper.pxi\u001b[0m in \u001b[0;36mpandas._libs.hashtable.PyObjectHashTable.get_item\u001b[0;34m()\u001b[0m\n",
            "\u001b[0;31mKeyError\u001b[0m: 0",
            "\nThe above exception was the direct cause of the following exception:\n",
            "\u001b[0;31mKeyError\u001b[0m                                  Traceback (most recent call last)",
            "\u001b[0;32m<ipython-input-6-afee385d6605>\u001b[0m in \u001b[0;36m<module>\u001b[0;34m()\u001b[0m\n\u001b[0;32m----> 1\u001b[0;31m \u001b[0mtrain_img\u001b[0m\u001b[0;34m[\u001b[0m\u001b[0;36m0\u001b[0m\u001b[0;34m]\u001b[0m\u001b[0;34m\u001b[0m\u001b[0;34m\u001b[0m\u001b[0m\n\u001b[0m",
            "\u001b[0;32m/usr/local/lib/python3.7/dist-packages/pandas/core/frame.py\u001b[0m in \u001b[0;36m__getitem__\u001b[0;34m(self, key)\u001b[0m\n\u001b[1;32m   3456\u001b[0m             \u001b[0;32mif\u001b[0m \u001b[0mself\u001b[0m\u001b[0;34m.\u001b[0m\u001b[0mcolumns\u001b[0m\u001b[0;34m.\u001b[0m\u001b[0mnlevels\u001b[0m \u001b[0;34m>\u001b[0m \u001b[0;36m1\u001b[0m\u001b[0;34m:\u001b[0m\u001b[0;34m\u001b[0m\u001b[0;34m\u001b[0m\u001b[0m\n\u001b[1;32m   3457\u001b[0m                 \u001b[0;32mreturn\u001b[0m \u001b[0mself\u001b[0m\u001b[0;34m.\u001b[0m\u001b[0m_getitem_multilevel\u001b[0m\u001b[0;34m(\u001b[0m\u001b[0mkey\u001b[0m\u001b[0;34m)\u001b[0m\u001b[0;34m\u001b[0m\u001b[0;34m\u001b[0m\u001b[0m\n\u001b[0;32m-> 3458\u001b[0;31m             \u001b[0mindexer\u001b[0m \u001b[0;34m=\u001b[0m \u001b[0mself\u001b[0m\u001b[0;34m.\u001b[0m\u001b[0mcolumns\u001b[0m\u001b[0;34m.\u001b[0m\u001b[0mget_loc\u001b[0m\u001b[0;34m(\u001b[0m\u001b[0mkey\u001b[0m\u001b[0;34m)\u001b[0m\u001b[0;34m\u001b[0m\u001b[0;34m\u001b[0m\u001b[0m\n\u001b[0m\u001b[1;32m   3459\u001b[0m             \u001b[0;32mif\u001b[0m \u001b[0mis_integer\u001b[0m\u001b[0;34m(\u001b[0m\u001b[0mindexer\u001b[0m\u001b[0;34m)\u001b[0m\u001b[0;34m:\u001b[0m\u001b[0;34m\u001b[0m\u001b[0;34m\u001b[0m\u001b[0m\n\u001b[1;32m   3460\u001b[0m                 \u001b[0mindexer\u001b[0m \u001b[0;34m=\u001b[0m \u001b[0;34m[\u001b[0m\u001b[0mindexer\u001b[0m\u001b[0;34m]\u001b[0m\u001b[0;34m\u001b[0m\u001b[0;34m\u001b[0m\u001b[0m\n",
            "\u001b[0;32m/usr/local/lib/python3.7/dist-packages/pandas/core/indexes/base.py\u001b[0m in \u001b[0;36mget_loc\u001b[0;34m(self, key, method, tolerance)\u001b[0m\n\u001b[1;32m   3361\u001b[0m                 \u001b[0;32mreturn\u001b[0m \u001b[0mself\u001b[0m\u001b[0;34m.\u001b[0m\u001b[0m_engine\u001b[0m\u001b[0;34m.\u001b[0m\u001b[0mget_loc\u001b[0m\u001b[0;34m(\u001b[0m\u001b[0mcasted_key\u001b[0m\u001b[0;34m)\u001b[0m\u001b[0;34m\u001b[0m\u001b[0;34m\u001b[0m\u001b[0m\n\u001b[1;32m   3362\u001b[0m             \u001b[0;32mexcept\u001b[0m \u001b[0mKeyError\u001b[0m \u001b[0;32mas\u001b[0m \u001b[0merr\u001b[0m\u001b[0;34m:\u001b[0m\u001b[0;34m\u001b[0m\u001b[0;34m\u001b[0m\u001b[0m\n\u001b[0;32m-> 3363\u001b[0;31m                 \u001b[0;32mraise\u001b[0m \u001b[0mKeyError\u001b[0m\u001b[0;34m(\u001b[0m\u001b[0mkey\u001b[0m\u001b[0;34m)\u001b[0m \u001b[0;32mfrom\u001b[0m \u001b[0merr\u001b[0m\u001b[0;34m\u001b[0m\u001b[0;34m\u001b[0m\u001b[0m\n\u001b[0m\u001b[1;32m   3364\u001b[0m \u001b[0;34m\u001b[0m\u001b[0m\n\u001b[1;32m   3365\u001b[0m         \u001b[0;32mif\u001b[0m \u001b[0mis_scalar\u001b[0m\u001b[0;34m(\u001b[0m\u001b[0mkey\u001b[0m\u001b[0;34m)\u001b[0m \u001b[0;32mand\u001b[0m \u001b[0misna\u001b[0m\u001b[0;34m(\u001b[0m\u001b[0mkey\u001b[0m\u001b[0;34m)\u001b[0m \u001b[0;32mand\u001b[0m \u001b[0;32mnot\u001b[0m \u001b[0mself\u001b[0m\u001b[0;34m.\u001b[0m\u001b[0mhasnans\u001b[0m\u001b[0;34m:\u001b[0m\u001b[0;34m\u001b[0m\u001b[0;34m\u001b[0m\u001b[0m\n",
            "\u001b[0;31mKeyError\u001b[0m: 0"
          ]
        }
      ]
    },
    {
      "cell_type": "code",
      "metadata": {
        "id": "Tl4x2AJGlLhX",
        "colab": {
          "base_uri": "https://localhost:8080/"
        },
        "outputId": "88d4c9a4-eeb0-468e-adea-9f54cfcd7b15"
      },
      "source": [
        "test_img.shape"
      ],
      "execution_count": null,
      "outputs": [
        {
          "output_type": "execute_result",
          "data": {
            "text/plain": [
              "(21000, 784)"
            ]
          },
          "metadata": {},
          "execution_count": 7
        }
      ]
    },
    {
      "cell_type": "code",
      "metadata": {
        "id": "9NUfF4dTlLfk",
        "colab": {
          "base_uri": "https://localhost:8080/"
        },
        "outputId": "019c0494-23f4-4775-ed84-9b64ac9cce37"
      },
      "source": [
        "test_lbl.shape"
      ],
      "execution_count": null,
      "outputs": [
        {
          "output_type": "execute_result",
          "data": {
            "text/plain": [
              "(21000,)"
            ]
          },
          "metadata": {},
          "execution_count": 8
        }
      ]
    },
    {
      "cell_type": "code",
      "metadata": {
        "id": "XWQMCxlplLb8",
        "colab": {
          "base_uri": "https://localhost:8080/"
        },
        "outputId": "2c52e551-0565-4275-fb1a-225c729a9fcf"
      },
      "source": [
        "train_lbl.shape"
      ],
      "execution_count": null,
      "outputs": [
        {
          "output_type": "execute_result",
          "data": {
            "text/plain": [
              "(49000,)"
            ]
          },
          "metadata": {},
          "execution_count": 9
        }
      ]
    },
    {
      "cell_type": "code",
      "metadata": {
        "id": "mVQBIPDTn91x",
        "colab": {
          "base_uri": "https://localhost:8080/"
        },
        "outputId": "36657bfb-5b16-41c6-d895-89c01a068aeb"
      },
      "source": [
        "scaler = StandardScaler()\n",
        "scaler.fit(train_img) #train images only"
      ],
      "execution_count": null,
      "outputs": [
        {
          "output_type": "execute_result",
          "data": {
            "text/plain": [
              "StandardScaler()"
            ]
          },
          "metadata": {},
          "execution_count": 10
        }
      ]
    },
    {
      "cell_type": "code",
      "metadata": {
        "id": "lMobrfcQpm_v",
        "colab": {
          "base_uri": "https://localhost:8080/"
        },
        "outputId": "6c83d73b-041e-498d-850d-a15acc1bf7da"
      },
      "source": [
        "len(scaler.mean_)"
      ],
      "execution_count": null,
      "outputs": [
        {
          "output_type": "execute_result",
          "data": {
            "text/plain": [
              "784"
            ]
          },
          "metadata": {},
          "execution_count": 11
        }
      ]
    },
    {
      "cell_type": "code",
      "metadata": {
        "id": "sWZHBuNrn98F"
      },
      "source": [
        "# apply transformation to both train set and test set\n",
        "train_img = scaler.transform(train_img)\n",
        "test_img = scaler.transform(test_img)\n"
      ],
      "execution_count": null,
      "outputs": []
    },
    {
      "cell_type": "code",
      "metadata": {
        "id": "44YZa6_nn95K",
        "colab": {
          "base_uri": "https://localhost:8080/"
        },
        "outputId": "82dbfb8c-902e-43f4-bb98-154605de18a0"
      },
      "source": [
        "pca = PCA(n_components = 0.95)\n",
        "pca.fit(train_img)"
      ],
      "execution_count": null,
      "outputs": [
        {
          "output_type": "execute_result",
          "data": {
            "text/plain": [
              "PCA(n_components=0.95)"
            ]
          },
          "metadata": {},
          "execution_count": 13
        }
      ]
    },
    {
      "cell_type": "code",
      "metadata": {
        "id": "UoKtcaFen9zy",
        "colab": {
          "base_uri": "https://localhost:8080/"
        },
        "outputId": "dbc09b6a-8069-4fd6-87c4-cfebaf1b10ee"
      },
      "source": [
        "pca.n_components_"
      ],
      "execution_count": null,
      "outputs": [
        {
          "output_type": "execute_result",
          "data": {
            "text/plain": [
              "323"
            ]
          },
          "metadata": {},
          "execution_count": 14
        }
      ]
    },
    {
      "cell_type": "code",
      "metadata": {
        "id": "KmBCIOWYlLaL",
        "colab": {
          "base_uri": "https://localhost:8080/"
        },
        "outputId": "156ab623-9df9-47f7-83a7-6eda7e80a8f3"
      },
      "source": [
        "pca.n_features_"
      ],
      "execution_count": null,
      "outputs": [
        {
          "output_type": "execute_result",
          "data": {
            "text/plain": [
              "784"
            ]
          },
          "metadata": {},
          "execution_count": 15
        }
      ]
    },
    {
      "cell_type": "code",
      "metadata": {
        "id": "iLF0dnAMq71o",
        "colab": {
          "base_uri": "https://localhost:8080/"
        },
        "outputId": "f13bdee5-1b41-47b7-fadf-d72e60aa9af5"
      },
      "source": [
        "pca.explained_variance_"
      ],
      "execution_count": null,
      "outputs": [
        {
          "output_type": "execute_result",
          "data": {
            "text/plain": [
              "array([40.56433417, 29.02450546, 26.9313669 , 20.82318507, 18.09949744,\n",
              "       15.76642964, 13.80416904, 12.50377938, 10.99211873, 10.01998328,\n",
              "        9.63603355,  8.61609824,  8.03373451,  7.85245832,  7.38428803,\n",
              "        7.12368823,  6.6711926 ,  6.60736488,  6.38803982,  6.18602659,\n",
              "        5.88585565,  5.70980703,  5.42479437,  5.32512013,  5.14591301,\n",
              "        4.95014549,  4.89075869,  4.68543709,  4.49574412,  4.38374361,\n",
              "        4.25930905,  4.24722668,  4.05370693,  4.03020815,  3.93582713,\n",
              "        3.87035527,  3.79911745,  3.71769374,  3.65712528,  3.44265486,\n",
              "        3.43028049,  3.37734603,  3.26818015,  3.23695222,  3.22007253,\n",
              "        3.18389961,  3.15121029,  3.09692565,  3.06735529,  3.01335066,\n",
              "        2.91813999,  2.89598039,  2.84887891,  2.79389571,  2.74561286,\n",
              "        2.72748097,  2.6979437 ,  2.62286342,  2.59195022,  2.57176634,\n",
              "        2.51485824,  2.49088221,  2.45887784,  2.43188073,  2.42636139,\n",
              "        2.39118472,  2.351282  ,  2.32707435,  2.29539544,  2.27210095,\n",
              "        2.23826664,  2.23526774,  2.21981769,  2.19544158,  2.14924517,\n",
              "        2.14398358,  2.13657024,  2.09661401,  2.0717749 ,  2.05977341,\n",
              "        2.04162201,  2.03060118,  2.01140459,  2.00378418,  2.00104942,\n",
              "        1.99196277,  1.967426  ,  1.96368558,  1.95366986,  1.92007739,\n",
              "        1.89527275,  1.87142753,  1.86355054,  1.84526259,  1.83626663,\n",
              "        1.814932  ,  1.80487276,  1.7862768 ,  1.77336602,  1.74785212,\n",
              "        1.72926601,  1.72260814,  1.71019532,  1.67331583,  1.65726718,\n",
              "        1.62626586,  1.61239289,  1.60932605,  1.59268365,  1.58198437,\n",
              "        1.56967481,  1.5346868 ,  1.5297052 ,  1.51581423,  1.4936153 ,\n",
              "        1.4764381 ,  1.47066011,  1.43278114,  1.42830464,  1.40599902,\n",
              "        1.39634288,  1.39220077,  1.38478667,  1.36818164,  1.35850329,\n",
              "        1.35075501,  1.33632245,  1.33133779,  1.32374839,  1.30675352,\n",
              "        1.28803167,  1.2689028 ,  1.26255818,  1.25162738,  1.22830478,\n",
              "        1.22324685,  1.2009412 ,  1.19857486,  1.18594581,  1.17443596,\n",
              "        1.1499804 ,  1.14838427,  1.14540169,  1.1241309 ,  1.11920503,\n",
              "        1.10661497,  1.10480683,  1.09925091,  1.09337176,  1.08962531,\n",
              "        1.07859458,  1.07250658,  1.05537592,  1.04541037,  1.03622894,\n",
              "        1.02776875,  1.02328739,  1.01918895,  1.00958728,  1.00304343,\n",
              "        1.00056112,  0.99836106,  0.99413132,  0.988888  ,  0.98078733,\n",
              "        0.97105426,  0.96776994,  0.96042588,  0.95011633,  0.94571552,\n",
              "        0.94077893,  0.93533772,  0.92895795,  0.91473591,  0.91410906,\n",
              "        0.90008285,  0.89826519,  0.89753713,  0.88177579,  0.87570888,\n",
              "        0.86784531,  0.85804632,  0.8496915 ,  0.84089348,  0.83435471,\n",
              "        0.82460512,  0.82257997,  0.81788777,  0.80519078,  0.79659743,\n",
              "        0.78464882,  0.77749275,  0.77171325,  0.76634542,  0.75804076,\n",
              "        0.75390345,  0.7524177 ,  0.74038032,  0.73371816,  0.72873598,\n",
              "        0.72789026,  0.71457209,  0.70374482,  0.70148616,  0.70032089,\n",
              "        0.69818939,  0.68818212,  0.67994104,  0.6738267 ,  0.6657115 ,\n",
              "        0.65792071,  0.65317095,  0.65027593,  0.6412611 ,  0.63523019,\n",
              "        0.62771725,  0.62667938,  0.61453999,  0.60948189,  0.60144829,\n",
              "        0.60010808,  0.59319439,  0.59016823,  0.5832838 ,  0.57905496,\n",
              "        0.57776106,  0.5676716 ,  0.5629071 ,  0.55873149,  0.55354264,\n",
              "        0.54863954,  0.54624837,  0.53813495,  0.5264725 ,  0.52243168,\n",
              "        0.51920392,  0.5139001 ,  0.51045926,  0.50490945,  0.50173957,\n",
              "        0.49602316,  0.49422341,  0.48928249,  0.48686516,  0.48441678,\n",
              "        0.4824167 ,  0.47647972,  0.47289876,  0.46256208,  0.45999345,\n",
              "        0.45773498,  0.45297918,  0.45194167,  0.44748413,  0.44184135,\n",
              "        0.43756705,  0.4351124 ,  0.43380785,  0.43159292,  0.42700259,\n",
              "        0.41885834,  0.41649434,  0.41488272,  0.41320725,  0.40741219,\n",
              "        0.40277926,  0.40004581,  0.39620098,  0.39394247,  0.39291081,\n",
              "        0.3885498 ,  0.38437334,  0.3826446 ,  0.37947369,  0.37632732,\n",
              "        0.37324661,  0.3679895 ,  0.36507116,  0.36202645,  0.35897271,\n",
              "        0.35431754,  0.34892951,  0.34785432,  0.34478568,  0.34098287,\n",
              "        0.34001179,  0.33585568,  0.33354452,  0.33252725,  0.32751713,\n",
              "        0.32421247,  0.32286   ,  0.32050666,  0.31734176,  0.31351926,\n",
              "        0.31307061,  0.30932615,  0.30621045,  0.30461726,  0.30195764,\n",
              "        0.30090653,  0.29511072,  0.29377628,  0.2932661 ,  0.29099674,\n",
              "        0.28875915,  0.28491621,  0.28402891,  0.28336846,  0.27913677,\n",
              "        0.27699086,  0.27363602,  0.27175453,  0.27042712,  0.26732058,\n",
              "        0.26716614,  0.26460452,  0.26135573,  0.25933139,  0.25916828,\n",
              "        0.2560948 ,  0.25405245,  0.25196542])"
            ]
          },
          "metadata": {},
          "execution_count": 16
        }
      ]
    },
    {
      "cell_type": "code",
      "metadata": {
        "id": "5EAPStbQrGaW",
        "colab": {
          "base_uri": "https://localhost:8080/"
        },
        "outputId": "38894ba3-8078-4d06-bc2e-8f92ee922d7d"
      },
      "source": [
        "pca.explained_variance_ratio_"
      ],
      "execution_count": null,
      "outputs": [
        {
          "output_type": "execute_result",
          "data": {
            "text/plain": [
              "array([0.05721228, 0.04093641, 0.03798423, 0.0293692 , 0.02552768,\n",
              "       0.02223711, 0.01946952, 0.01763544, 0.01550338, 0.01413227,\n",
              "       0.01359074, 0.01215222, 0.01133085, 0.01107517, 0.01041486,\n",
              "       0.01004731, 0.00940911, 0.00931908, 0.00900975, 0.00872482,\n",
              "       0.00830146, 0.00805316, 0.00765118, 0.00751059, 0.00725784,\n",
              "       0.00698173, 0.00689797, 0.00660838, 0.00634084, 0.00618287,\n",
              "       0.00600737, 0.00599032, 0.00571738, 0.00568424, 0.00555112,\n",
              "       0.00545878, 0.00535831, 0.00524347, 0.00515804, 0.00485555,\n",
              "       0.0048381 , 0.00476344, 0.00460947, 0.00456542, 0.00454162,\n",
              "       0.0044906 , 0.00444449, 0.00436793, 0.00432622, 0.00425006,\n",
              "       0.00411577, 0.00408452, 0.00401808, 0.00394053, 0.00387244,\n",
              "       0.00384686, 0.0038052 , 0.00369931, 0.00365571, 0.00362724,\n",
              "       0.00354698, 0.00351316, 0.00346802, 0.00342995, 0.00342216,\n",
              "       0.00337255, 0.00331627, 0.00328213, 0.00323745, 0.00320459,\n",
              "       0.00315687, 0.00315264, 0.00313085, 0.00309647, 0.00303131,\n",
              "       0.00302389, 0.00301344, 0.00295708, 0.00292205, 0.00290512,\n",
              "       0.00287952, 0.00286398, 0.0028369 , 0.00282615, 0.0028223 ,\n",
              "       0.00280948, 0.00277487, 0.0027696 , 0.00275547, 0.00270809,\n",
              "       0.00267311, 0.00263948, 0.00262837, 0.00260257, 0.00258989,\n",
              "       0.0025598 , 0.00254561, 0.00251938, 0.00250117, 0.00246519,\n",
              "       0.00243897, 0.00242958, 0.00241207, 0.00236006, 0.00233742,\n",
              "       0.0022937 , 0.00227413, 0.00226981, 0.00224633, 0.00223124,\n",
              "       0.00221388, 0.00216454, 0.00215751, 0.00213792, 0.00210661,\n",
              "       0.00208238, 0.00207423, 0.00202081, 0.00201449, 0.00198303,\n",
              "       0.00196941, 0.00196357, 0.00195311, 0.00192969, 0.00191604,\n",
              "       0.00190512, 0.00188476, 0.00187773, 0.00186703, 0.00184306,\n",
              "       0.00181665, 0.00178967, 0.00178072, 0.00176531, 0.00173241,\n",
              "       0.00172528, 0.00169382, 0.00169048, 0.00167267, 0.00165643,\n",
              "       0.00162194, 0.00161969, 0.00161548, 0.00158548, 0.00157854,\n",
              "       0.00156078, 0.00155823, 0.00155039, 0.0015421 , 0.00153682,\n",
              "       0.00152126, 0.00151267, 0.00148851, 0.00147446, 0.00146151,\n",
              "       0.00144957, 0.00144325, 0.00143747, 0.00142393, 0.0014147 ,\n",
              "       0.0014112 , 0.0014081 , 0.00140213, 0.00139474, 0.00138331,\n",
              "       0.00136958, 0.00136495, 0.00135459, 0.00134005, 0.00133385,\n",
              "       0.00132688, 0.00131921, 0.00131021, 0.00129015, 0.00128927,\n",
              "       0.00126948, 0.00126692, 0.00126589, 0.00124366, 0.00123511,\n",
              "       0.00122402, 0.0012102 , 0.00119841, 0.001186  , 0.00117678,\n",
              "       0.00116303, 0.00116017, 0.00115356, 0.00113565, 0.00112353,\n",
              "       0.00110668, 0.00109658, 0.00108843, 0.00108086, 0.00106915,\n",
              "       0.00106331, 0.00106122, 0.00104424, 0.00103484, 0.00102782,\n",
              "       0.00102662, 0.00100784, 0.00099257, 0.00098938, 0.00098774,\n",
              "       0.00098473, 0.00097062, 0.00095899, 0.00095037, 0.00093893,\n",
              "       0.00092794, 0.00092124, 0.00091715, 0.00090444, 0.00089593,\n",
              "       0.00088534, 0.00088387, 0.00086675, 0.00085962, 0.00084829,\n",
              "       0.0008464 , 0.00083665, 0.00083238, 0.00082267, 0.0008167 ,\n",
              "       0.00081488, 0.00080065, 0.00079393, 0.00078804, 0.00078072,\n",
              "       0.00077381, 0.00077043, 0.00075899, 0.00074254, 0.00073684,\n",
              "       0.00073229, 0.00072481, 0.00071996, 0.00071213, 0.00070766,\n",
              "       0.0006996 , 0.00069706, 0.00069009, 0.00068668, 0.00068323,\n",
              "       0.0006804 , 0.00067203, 0.00066698, 0.0006524 , 0.00064878,\n",
              "       0.00064559, 0.00063889, 0.00063742, 0.00063114, 0.00062318,\n",
              "       0.00061715, 0.00061369, 0.00061185, 0.00060872, 0.00060225,\n",
              "       0.00059076, 0.00058743, 0.00058515, 0.00058279, 0.00057462,\n",
              "       0.00056808, 0.00056423, 0.00055881, 0.00055562, 0.00055416,\n",
              "       0.00054801, 0.00054212, 0.00053969, 0.00053521, 0.00053078,\n",
              "       0.00052643, 0.00051902, 0.0005149 , 0.00051061, 0.0005063 ,\n",
              "       0.00049973, 0.00049213, 0.00049062, 0.00048629, 0.00048093,\n",
              "       0.00047956, 0.00047369, 0.00047043, 0.000469  , 0.00046193,\n",
              "       0.00045727, 0.00045536, 0.00045205, 0.00044758, 0.00044219,\n",
              "       0.00044156, 0.00043628, 0.00043188, 0.00042963, 0.00042588,\n",
              "       0.0004244 , 0.00041623, 0.00041434, 0.00041362, 0.00041042,\n",
              "       0.00040727, 0.00040185, 0.0004006 , 0.00039967, 0.0003937 ,\n",
              "       0.00039067, 0.00038594, 0.00038328, 0.00038141, 0.00037703,\n",
              "       0.00037681, 0.0003732 , 0.00036862, 0.00036576, 0.00036553,\n",
              "       0.0003612 , 0.00035832, 0.00035537])"
            ]
          },
          "metadata": {},
          "execution_count": 17
        }
      ]
    },
    {
      "cell_type": "code",
      "metadata": {
        "id": "wNGhT_UgrGdx",
        "colab": {
          "base_uri": "https://localhost:8080/"
        },
        "outputId": "d47fb59c-274a-438d-863c-ed85065cb91c"
      },
      "source": [
        "pca.n_components"
      ],
      "execution_count": null,
      "outputs": [
        {
          "output_type": "execute_result",
          "data": {
            "text/plain": [
              "0.95"
            ]
          },
          "metadata": {
            "tags": []
          },
          "execution_count": 19
        }
      ]
    },
    {
      "cell_type": "markdown",
      "metadata": {
        "id": "8uQt9eXCrvBk"
      },
      "source": [
        "Apply Logistic regression"
      ]
    },
    {
      "cell_type": "code",
      "metadata": {
        "id": "CeRVQVC-ruOK"
      },
      "source": [
        "from sklearn.linear_model import LogisticRegression"
      ],
      "execution_count": null,
      "outputs": []
    },
    {
      "cell_type": "code",
      "metadata": {
        "id": "r-A0AkJWrGYZ",
        "colab": {
          "base_uri": "https://localhost:8080/"
        },
        "outputId": "3a466690-4094-406a-9645-bfbec5aeae17"
      },
      "source": [
        "logisticRegr = LogisticRegression()\n",
        "logisticRegr.fit(train_img,train_lbl)"
      ],
      "execution_count": null,
      "outputs": [
        {
          "output_type": "stream",
          "name": "stderr",
          "text": [
            "/usr/local/lib/python3.7/dist-packages/sklearn/linear_model/_logistic.py:818: ConvergenceWarning: lbfgs failed to converge (status=1):\n",
            "STOP: TOTAL NO. of ITERATIONS REACHED LIMIT.\n",
            "\n",
            "Increase the number of iterations (max_iter) or scale the data as shown in:\n",
            "    https://scikit-learn.org/stable/modules/preprocessing.html\n",
            "Please also refer to the documentation for alternative solver options:\n",
            "    https://scikit-learn.org/stable/modules/linear_model.html#logistic-regression\n",
            "  extra_warning_msg=_LOGISTIC_SOLVER_CONVERGENCE_MSG,\n"
          ]
        },
        {
          "output_type": "execute_result",
          "data": {
            "text/plain": [
              "LogisticRegression()"
            ]
          },
          "metadata": {},
          "execution_count": 19
        }
      ]
    },
    {
      "cell_type": "code",
      "metadata": {
        "id": "osNN1EUgsty9",
        "colab": {
          "base_uri": "https://localhost:8080/"
        },
        "outputId": "d811debc-1698-430c-ec5e-3a603ec4acc8"
      },
      "source": [
        "test_img[0]"
      ],
      "execution_count": null,
      "outputs": [
        {
          "output_type": "execute_result",
          "data": {
            "text/plain": [
              "array([ 0.00000000e+00,  0.00000000e+00,  0.00000000e+00,  0.00000000e+00,\n",
              "        0.00000000e+00,  0.00000000e+00,  0.00000000e+00,  0.00000000e+00,\n",
              "        0.00000000e+00,  0.00000000e+00,  0.00000000e+00,  0.00000000e+00,\n",
              "        0.00000000e+00,  0.00000000e+00,  0.00000000e+00,  0.00000000e+00,\n",
              "        0.00000000e+00,  0.00000000e+00,  0.00000000e+00,  0.00000000e+00,\n",
              "        0.00000000e+00,  0.00000000e+00,  0.00000000e+00,  0.00000000e+00,\n",
              "        0.00000000e+00,  0.00000000e+00,  0.00000000e+00,  0.00000000e+00,\n",
              "        0.00000000e+00,  0.00000000e+00,  0.00000000e+00,  0.00000000e+00,\n",
              "       -4.51758561e-03, -4.51758561e-03, -6.24410946e-03, -8.43346592e-03,\n",
              "       -1.16754848e-02, -1.87228033e-02, -2.51830921e-02, -3.06291938e-02,\n",
              "       -3.15185398e-02, -3.21299739e-02, -3.35176259e-02, -3.06602340e-02,\n",
              "       -3.02231644e-02, -2.68676314e-02, -2.20914325e-02, -1.89414044e-02,\n",
              "       -1.70306363e-02, -1.08325340e-02, -7.69122172e-03, -4.51758561e-03,\n",
              "        0.00000000e+00,  0.00000000e+00,  0.00000000e+00,  0.00000000e+00,\n",
              "        0.00000000e+00,  0.00000000e+00, -4.51758561e-03, -5.97032954e-03,\n",
              "       -6.56604860e-03, -8.27915697e-03, -1.58652001e-02, -2.54257592e-02,\n",
              "       -3.60349468e-02, -5.42695609e-02, -7.15378838e-02, -8.92252607e-02,\n",
              "       -1.04966471e-01, -1.18785054e-01, -1.30139780e-01, -1.37727757e-01,\n",
              "       -1.38088668e-01, -1.30645104e-01, -1.18394957e-01, -9.99163769e-02,\n",
              "       -7.84585687e-02, -5.54829386e-02, -3.86662483e-02, -2.27153498e-02,\n",
              "       -1.48093291e-02, -8.66540695e-03,  0.00000000e+00,  0.00000000e+00,\n",
              "        0.00000000e+00,  0.00000000e+00, -5.61928567e-03, -8.61751112e-03,\n",
              "       -1.26615656e-02, -2.07735568e-02, -3.52712313e-02, -5.50256780e-02,\n",
              "       -8.08848075e-02, -1.11548113e-01, -1.42357014e-01, -1.73206108e-01,\n",
              "       -2.02015662e-01, -2.28143601e-01, -2.50023221e-01, -2.61783896e-01,\n",
              "       -2.61649429e-01, -2.46389910e-01, -2.20118389e-01, -1.85515276e-01,\n",
              "       -1.47392590e-01, -1.07968921e-01, -7.71591679e-02, -4.74520944e-02,\n",
              "       -3.07479513e-02, -1.72358981e-02, -7.17631061e-03,  0.00000000e+00,\n",
              "        0.00000000e+00, -4.51758561e-03, -6.59255054e-03, -1.63378081e-02,\n",
              "       -2.35031125e-02, -4.98749665e-02, -7.89509712e-02, -1.16688166e-01,\n",
              "       -1.63341880e-01, -2.16324416e-01, -2.70526121e-01, -3.29644020e-01,\n",
              "        2.00036943e-02,  9.29670056e-02, -5.04374943e-01, -5.26950899e-01,\n",
              "       -5.20273603e-01, -4.81271135e-01, -4.22423557e-01, -3.55914975e-01,\n",
              "       -2.83137018e-01, -2.16281321e-01, -1.59218945e-01, -1.08034115e-01,\n",
              "       -7.00828717e-02, -3.82972661e-02, -1.39523637e-02,  0.00000000e+00,\n",
              "        0.00000000e+00,  0.00000000e+00, -1.12559007e-02, -2.18640408e-02,\n",
              "       -5.26548037e-02, -9.18280241e-02, -1.40590654e-01, -1.97904206e-01,\n",
              "       -2.64565841e-01, -3.42542666e-01, -4.26122566e-01,  9.96567968e-01,\n",
              "        1.79664122e+00,  1.72285951e+00,  8.13664793e-01, -5.71981042e-02,\n",
              "       -4.17279658e-02,  4.15983554e-02,  1.89545540e-01, -5.58729042e-01,\n",
              "       -4.48777506e-01, -3.47592413e-01, -2.60205978e-01, -1.88665581e-01,\n",
              "       -1.30006266e-01, -7.41914336e-02, -3.39241702e-02, -6.83381474e-03,\n",
              "        0.00000000e+00, -6.16376705e-03, -1.31657895e-02, -3.67061857e-02,\n",
              "       -8.00704196e-02, -1.33695875e-01, -1.98561948e-01, -2.75257033e-01,\n",
              "       -3.64858547e-01, -3.04082752e-01,  8.89306260e-01,  1.76404563e+00,\n",
              "        1.50384219e+00,  1.30797341e+00,  1.19486486e+00,  1.13469719e+00,\n",
              "        1.15650356e+00,  1.24267169e+00,  1.41440053e+00,  1.35155084e+00,\n",
              "        7.81153099e-01, -2.07460225e-01, -3.37556389e-01, -2.46260729e-01,\n",
              "       -1.70678805e-01, -1.03800648e-01, -4.94585254e-02, -1.68166080e-02,\n",
              "       -4.51758561e-03, -1.34788163e-02, -2.69380702e-02, -6.07774635e-02,\n",
              "       -1.13780261e-01, -1.78184521e-01, -2.57750541e-01, -3.51348115e-01,\n",
              "       -1.19178812e-01,  1.77482744e+00,  1.74269760e+00,  1.46158997e+00,\n",
              "        1.27221430e+00,  1.14830338e+00,  1.08647691e+00,  1.05956880e+00,\n",
              "        1.07750603e+00,  1.12992519e+00,  1.24336745e+00,  1.46115626e+00,\n",
              "        1.80511715e+00,  1.77341129e+00, -9.56331259e-02, -2.85138101e-01,\n",
              "       -1.94135882e-01, -1.21546196e-01, -5.74404399e-02, -1.71926244e-02,\n",
              "       -5.56105880e-03, -1.69296475e-02, -4.42918415e-02, -8.40748623e-02,\n",
              "       -1.38803835e-01, -2.11180733e-01, -2.99416731e-01, -3.33366465e-02,\n",
              "        1.86345166e+00,  1.84242053e+00,  1.49943754e+00,  1.29422660e+00,\n",
              "        1.19072755e+00,  1.15544308e+00,  1.16922346e+00,  8.55409585e-01,\n",
              "        6.97161903e-01,  1.16603384e+00,  1.21359668e+00,  1.38091924e+00,\n",
              "        1.67664301e+00,  2.16593565e+00,  2.23970819e+00,  3.78040159e-02,\n",
              "       -1.95783895e-01, -1.21466076e-01, -5.73429090e-02, -1.49232487e-02,\n",
              "       -6.88371611e-03, -2.16398059e-02, -5.33956104e-02, -9.31535211e-02,\n",
              "       -1.50148351e-01, -2.25932494e-01, -2.55490276e-01,  1.91565729e+00,\n",
              "        2.11744332e+00,  1.67638444e+00,  1.38943055e+00,  1.27261988e+00,\n",
              "        1.27650951e+00,  1.03410999e+00,  3.04421136e-01, -9.11412287e-01,\n",
              "       -9.55150001e-01, -1.00481354e+00, -1.99712401e-01,  1.40933214e+00,\n",
              "        1.69143539e+00,  2.16922745e+00,  2.99287402e+00,  1.69289791e+00,\n",
              "       -1.79816315e-01, -1.05273206e-01, -4.92075761e-02, -1.67232480e-02,\n",
              "       -6.37277210e-03, -2.15266108e-02, -5.32150074e-02, -9.27602966e-02,\n",
              "       -1.47344918e-01, -2.26291230e-01,  1.31461801e+00,  2.69010990e+00,\n",
              "        1.99371299e+00,  1.58350670e+00,  1.36393961e+00,  1.34133058e+00,\n",
              "        7.00452546e-01, -6.86790109e-01, -7.69616020e-01, -8.00248883e-01,\n",
              "       -8.70917779e-01, -9.52734787e-01, -9.63493026e-01,  6.70299378e-03,\n",
              "        1.76209541e+00,  2.27262034e+00,  3.13083602e+00,  3.40342472e+00,\n",
              "       -1.59806020e-01, -8.02311865e-02, -3.76773491e-02, -1.25269945e-02,\n",
              "       -8.04971236e-03, -1.89572108e-02, -4.74006181e-02, -8.27214557e-02,\n",
              "       -1.36686683e-01, -2.24112729e-01,  3.27299513e+00,  2.57202043e+00,\n",
              "        1.89254056e+00,  1.52565646e+00,  1.38076291e+00,  7.81585520e-01,\n",
              "       -3.76765944e-01, -7.28306633e-01, -7.37351727e-01, -7.99568225e-01,\n",
              "       -9.00921663e-01, -9.79900478e-01, -9.57920455e-01, -7.91573822e-01,\n",
              "        1.31633986e+00,  2.46411231e+00,  3.30922588e+00,  4.91018658e+00,\n",
              "       -1.51127525e-01, -6.13974247e-02, -2.74103258e-02, -8.13835370e-03,\n",
              "       -4.51758561e-03, -1.39459721e-02, -3.50816236e-02, -6.83812106e-02,\n",
              "       -1.26416635e-01,  1.76886877e+00,  3.45318584e+00,  2.42149384e+00,\n",
              "        1.79312246e+00,  1.39528520e+00,  8.22191631e-01, -6.92807184e-01,\n",
              "       -7.62880537e-01, -7.65337792e-01, -8.17624921e-01, -9.17160373e-01,\n",
              "       -1.03038464e+00, -1.06041424e+00, -9.70213427e-01, -7.98290227e-01,\n",
              "        6.44666852e-01,  2.62798894e+00,  3.41386752e+00,  4.79845579e+00,\n",
              "       -1.53972783e-01, -5.36384022e-02, -2.05537483e-02, -8.32025974e-03,\n",
              "       -4.51758561e-03, -9.48226900e-03, -2.42095551e-02, -5.56357981e-02,\n",
              "        1.44718873e+00,  5.20428186e+00,  3.30443537e+00,  2.27719369e+00,\n",
              "        1.30170576e+00, -5.18884871e-01, -8.78775295e-01, -8.37926212e-01,\n",
              "       -8.11152126e-01, -8.85975535e-01, -9.75576818e-01, -1.10877572e+00,\n",
              "       -1.18069773e+00, -1.13039507e+00, -9.80171565e-01, -7.78708097e-01,\n",
              "        3.15633927e-01,  2.65002497e+00,  3.37606456e+00,  4.60651562e+00,\n",
              "       -1.64874252e-01, -5.84315269e-02, -2.24397722e-02, -4.51758561e-03,\n",
              "        0.00000000e+00, -8.19322168e-03, -1.70135853e-02, -5.05498200e-02,\n",
              "        2.50432185e+00,  5.01568684e+00,  3.10804615e+00,  2.19158867e+00,\n",
              "        1.14428574e-01, -8.27179374e-01, -8.66586320e-01, -8.57702619e-01,\n",
              "       -8.98965783e-01, -1.02858948e+00, -1.14194369e+00, -1.27176735e+00,\n",
              "       -1.24568042e+00, -1.14260565e+00, -9.67214628e-01, -7.66463495e-01,\n",
              "        3.13042273e-01,  2.57622896e+00,  3.26646168e+00,  4.44985827e+00,\n",
              "       -1.73347955e-01, -6.84316431e-02, -2.27087849e-02, -4.77507742e-03,\n",
              "       -4.51758561e-03, -4.63589055e-03, -1.50995161e-02, -5.25473433e-02,\n",
              "        7.12054722e+00,  4.56815501e+00,  2.93603008e+00,  1.65764570e+00,\n",
              "       -5.86111171e-01, -7.91539297e-01, -8.39730542e-01, -8.67860010e-01,\n",
              "       -9.56172523e-01, -1.09231956e+00, -1.20412976e+00, -1.27089120e+00,\n",
              "       -1.18282498e+00, -1.08137579e+00, -9.26370412e-01, -7.55625865e-01,\n",
              "        1.10078655e+00,  2.46981050e+00,  3.16126646e+00,  3.76773623e+00,\n",
              "       -1.74983104e-01, -7.69903975e-02, -2.63879992e-02, -9.10686188e-03,\n",
              "       -4.51758561e-03, -7.42208706e-03, -2.06888999e-02, -6.03965159e-02,\n",
              "        7.18763653e+00,  4.23476211e+00,  2.84630867e+00,  1.51918117e+00,\n",
              "       -6.59494689e-01, -7.39489787e-01, -7.85533956e-01, -8.30584513e-01,\n",
              "       -9.17435034e-01, -1.02630027e+00, -1.12289000e+00, -1.14510162e+00,\n",
              "       -1.08161437e+00, -1.00322866e+00, -8.83902212e-01, -3.71944820e-01,\n",
              "        1.92642461e+00,  2.44204466e+00,  3.18323747e+00,  2.54581619e+00,\n",
              "       -1.72333510e-01, -8.24043693e-02, -3.13191862e-02, -1.05533612e-02,\n",
              "        0.00000000e+00, -9.88403989e-03, -2.39135939e-02, -7.32910694e-02,\n",
              "        6.64330007e+00,  3.94814015e+00,  2.80432365e+00,  1.74202971e+00,\n",
              "       -5.09466612e-01, -6.83293880e-01, -7.23681852e-01, -7.66941014e-01,\n",
              "       -8.28300018e-01, -9.21000111e-01, -1.00622519e+00, -1.03375586e+00,\n",
              "       -1.01452053e+00, -9.59032491e-01, -8.61525650e-01, -3.32693139e-01,\n",
              "        1.97913108e+00,  2.48740283e+00,  3.31596421e+00,  1.29460172e+00,\n",
              "       -1.68227000e-01, -8.58940721e-02, -3.22392305e-02, -1.16118621e-02,\n",
              "       -4.77507742e-03, -7.02906963e-03, -3.29114937e-02, -8.95438939e-02,\n",
              "        2.52588238e+00,  3.71183983e+00,  2.72277259e+00,  2.25674407e+00,\n",
              "        2.83766462e-01, -6.60989277e-01, -6.99857043e-01, -7.33854933e-01,\n",
              "       -7.84737500e-01, -8.72945495e-01, -9.59156766e-01, -1.01288391e+00,\n",
              "       -1.01659654e+00, -9.60983196e-01, -4.51313952e-01,  9.30397774e-01,\n",
              "        2.02918119e+00,  2.60607069e+00,  3.12364663e+00,  2.71154578e-01,\n",
              "       -1.56636622e-01, -8.38067225e-02, -3.07986198e-02, -1.14624219e-02,\n",
              "       -4.51758561e-03, -1.16500932e-02, -3.78726940e-02, -1.03102153e-01,\n",
              "        8.30993982e-01,  3.58203385e+00,  2.64700513e+00,  2.18224727e+00,\n",
              "        1.92672831e+00,  1.60787934e+00,  6.58697359e-01,  1.41769858e+00,\n",
              "        5.26354659e-01,  4.20527284e-01,  3.15384837e-01,  2.66738192e-01,\n",
              "        2.78791219e-01,  9.83940443e-01,  1.46142891e+00,  1.76718562e+00,\n",
              "        2.19040997e+00,  2.81511644e+00,  8.52591631e-01, -2.22003906e-01,\n",
              "       -1.40402202e-01, -7.56006145e-02, -2.78542009e-02, -9.27185679e-03,\n",
              "        0.00000000e+00, -1.00652866e-02, -4.28959745e-02, -1.09928278e-01,\n",
              "        8.47277444e-01,  3.68959381e+00,  2.63867774e+00,  2.09794945e+00,\n",
              "        1.78797669e+00,  1.60755579e+00,  1.47316755e+00,  1.38500039e+00,\n",
              "        1.29702532e+00,  1.20439483e+00,  1.14349065e+00,  1.12668180e+00,\n",
              "        1.19009167e+00,  1.32683652e+00,  1.56633263e+00,  1.80614938e+00,\n",
              "        1.50328335e+00,  6.04114262e-01, -2.70673596e-01, -1.86288159e-01,\n",
              "       -1.20358416e-01, -6.43218104e-02, -2.49321847e-02, -6.38858290e-03,\n",
              "       -4.51758561e-03, -9.27822766e-03, -4.03042789e-02, -1.00767166e-01,\n",
              "        4.32080118e-01,  2.55269905e+00,  2.85110026e+00,  2.16713419e+00,\n",
              "        1.75768223e+00,  1.51921238e+00,  1.35223921e+00,  1.24399090e+00,\n",
              "        1.15857831e+00,  1.09644053e+00,  1.08729683e+00,  1.13408532e+00,\n",
              "        1.27393298e+00,  1.50503502e+00,  1.77424063e+00,  1.18681462e+00,\n",
              "       -3.97302358e-01, -2.94952568e-01, -2.11546265e-01, -1.46660191e-01,\n",
              "       -9.50373082e-02, -4.72671139e-02, -1.81206881e-02, -4.51758561e-03,\n",
              "       -4.51758561e-03, -7.38569089e-03, -3.20945566e-02, -8.03071874e-02,\n",
              "       -1.48514045e-01, -2.43021835e-01,  8.32441419e-01,  5.26659597e-01,\n",
              "        1.13993076e+00,  1.01970791e+00,  8.04321600e-01,  1.17992240e+00,\n",
              "        1.14776061e+00,  1.12488914e+00,  1.17383598e+00,  1.10685317e+00,\n",
              "        9.40225085e-01,  5.37082389e-01,  4.61564514e-02, -3.98522060e-01,\n",
              "       -2.99944047e-01, -2.18906261e-01, -1.57022359e-01, -1.05803811e-01,\n",
              "       -6.55976778e-02, -3.39842334e-02, -8.28819879e-03, -4.51758561e-03,\n",
              "        0.00000000e+00,  0.00000000e+00, -2.18922732e-02, -5.28721272e-02,\n",
              "       -1.01697048e-01, -1.69745321e-01, -2.57919148e-01, -3.66639414e-01,\n",
              "       -4.87973897e-01, -6.13350452e-01, -7.40306746e-01, -4.98304698e-01,\n",
              "       -5.24827387e-01, -5.20524934e-01, -4.53079549e-01, -4.64178446e-01,\n",
              "       -6.12606248e-01, -4.89755448e-01, -3.78994233e-01, -2.86084592e-01,\n",
              "       -2.09379180e-01, -1.50205380e-01, -1.06199911e-01, -6.97552926e-02,\n",
              "       -4.19073973e-02, -1.80463203e-02, -7.03128844e-03,  0.00000000e+00,\n",
              "        0.00000000e+00,  0.00000000e+00, -1.06990003e-02, -3.05953858e-02,\n",
              "       -5.81589895e-02, -9.47552399e-02, -1.51264377e-01, -2.21278578e-01,\n",
              "       -3.01624701e-01, -3.85508617e-01, -4.67125683e-01, -5.30619796e-01,\n",
              "       -5.65048466e-01, -5.62884279e-01, -5.28868468e-01, -4.69641490e-01,\n",
              "       -3.96168706e-01, -3.23799408e-01, -2.55263630e-01, -1.92109939e-01,\n",
              "       -1.42994548e-01, -1.00009576e-01, -7.00881449e-02, -4.51934239e-02,\n",
              "       -2.48005258e-02, -1.04829106e-02, -5.25938631e-03,  0.00000000e+00,\n",
              "        0.00000000e+00,  0.00000000e+00, -6.37007669e-03, -1.16821987e-02,\n",
              "       -2.89782716e-02, -5.15785868e-02, -8.49907377e-02, -1.26635218e-01,\n",
              "       -1.74750327e-01, -2.21610785e-01, -2.64003059e-01, -2.93227904e-01,\n",
              "       -3.07826869e-01, -3.06804072e-01, -2.92723034e-01, -2.64641970e-01,\n",
              "       -2.34323741e-01, -1.99449671e-01, -1.61965619e-01, -1.24641512e-01,\n",
              "       -9.19514613e-02, -6.48517861e-02, -4.53263369e-02, -2.71477937e-02,\n",
              "       -1.55456430e-02, -7.57009889e-03, -4.51758561e-03,  0.00000000e+00,\n",
              "        0.00000000e+00,  0.00000000e+00,  0.00000000e+00,  0.00000000e+00,\n",
              "       -1.49463003e-02, -2.96765021e-02, -5.23166062e-02, -7.93573359e-02,\n",
              "       -1.08354557e-01, -1.32483883e-01, -1.55082228e-01, -1.74021647e-01,\n",
              "       -1.82555028e-01, -1.81358741e-01, -1.72115778e-01, -1.55313711e-01,\n",
              "       -1.36627936e-01, -1.16355249e-01, -9.38957697e-02, -7.20313367e-02,\n",
              "       -5.16459493e-02, -3.57815295e-02, -2.19167633e-02, -1.27136032e-02,\n",
              "       -5.08655948e-03,  0.00000000e+00,  0.00000000e+00,  0.00000000e+00,\n",
              "        0.00000000e+00,  0.00000000e+00,  0.00000000e+00,  0.00000000e+00,\n",
              "       -4.84060568e-03, -8.48810780e-03, -1.51645177e-02, -2.17678864e-02,\n",
              "       -2.76001879e-02, -3.22292509e-02, -4.44936613e-02, -4.75042366e-02,\n",
              "       -5.17788578e-02, -5.55539161e-02, -6.08505568e-02, -5.89583005e-02,\n",
              "       -5.29572270e-02, -4.29395029e-02, -3.29002388e-02, -2.08873637e-02,\n",
              "       -1.44586224e-02, -9.75511288e-03, -6.70711259e-03, -4.51758561e-03,\n",
              "        0.00000000e+00,  0.00000000e+00,  0.00000000e+00,  0.00000000e+00])"
            ]
          },
          "metadata": {},
          "execution_count": 22
        }
      ]
    },
    {
      "cell_type": "code",
      "source": [
        "test_lbl[0]"
      ],
      "metadata": {
        "colab": {
          "base_uri": "https://localhost:8080/",
          "height": 549
        },
        "id": "ZYWZ2uaumRWT",
        "outputId": "4380a931-2f8c-48fb-aa77-323a53bfbcdf"
      },
      "execution_count": null,
      "outputs": [
        {
          "output_type": "error",
          "ename": "KeyError",
          "evalue": "ignored",
          "traceback": [
            "\u001b[0;31m---------------------------------------------------------------------------\u001b[0m",
            "\u001b[0;31mKeyError\u001b[0m                                  Traceback (most recent call last)",
            "\u001b[0;32m/usr/local/lib/python3.7/dist-packages/pandas/core/indexes/base.py\u001b[0m in \u001b[0;36mget_loc\u001b[0;34m(self, key, method, tolerance)\u001b[0m\n\u001b[1;32m   3360\u001b[0m             \u001b[0;32mtry\u001b[0m\u001b[0;34m:\u001b[0m\u001b[0;34m\u001b[0m\u001b[0;34m\u001b[0m\u001b[0m\n\u001b[0;32m-> 3361\u001b[0;31m                 \u001b[0;32mreturn\u001b[0m \u001b[0mself\u001b[0m\u001b[0;34m.\u001b[0m\u001b[0m_engine\u001b[0m\u001b[0;34m.\u001b[0m\u001b[0mget_loc\u001b[0m\u001b[0;34m(\u001b[0m\u001b[0mcasted_key\u001b[0m\u001b[0;34m)\u001b[0m\u001b[0;34m\u001b[0m\u001b[0;34m\u001b[0m\u001b[0m\n\u001b[0m\u001b[1;32m   3362\u001b[0m             \u001b[0;32mexcept\u001b[0m \u001b[0mKeyError\u001b[0m \u001b[0;32mas\u001b[0m \u001b[0merr\u001b[0m\u001b[0;34m:\u001b[0m\u001b[0;34m\u001b[0m\u001b[0;34m\u001b[0m\u001b[0m\n",
            "\u001b[0;32m/usr/local/lib/python3.7/dist-packages/pandas/_libs/index.pyx\u001b[0m in \u001b[0;36mpandas._libs.index.IndexEngine.get_loc\u001b[0;34m()\u001b[0m\n",
            "\u001b[0;32m/usr/local/lib/python3.7/dist-packages/pandas/_libs/index.pyx\u001b[0m in \u001b[0;36mpandas._libs.index.IndexEngine.get_loc\u001b[0;34m()\u001b[0m\n",
            "\u001b[0;32mpandas/_libs/hashtable_class_helper.pxi\u001b[0m in \u001b[0;36mpandas._libs.hashtable.Int64HashTable.get_item\u001b[0;34m()\u001b[0m\n",
            "\u001b[0;32mpandas/_libs/hashtable_class_helper.pxi\u001b[0m in \u001b[0;36mpandas._libs.hashtable.Int64HashTable.get_item\u001b[0;34m()\u001b[0m\n",
            "\u001b[0;31mKeyError\u001b[0m: 0",
            "\nThe above exception was the direct cause of the following exception:\n",
            "\u001b[0;31mKeyError\u001b[0m                                  Traceback (most recent call last)",
            "\u001b[0;32m<ipython-input-24-148073f5bf52>\u001b[0m in \u001b[0;36m<module>\u001b[0;34m()\u001b[0m\n\u001b[0;32m----> 1\u001b[0;31m \u001b[0mtest_lbl\u001b[0m\u001b[0;34m[\u001b[0m\u001b[0;36m0\u001b[0m\u001b[0;34m]\u001b[0m\u001b[0;34m\u001b[0m\u001b[0;34m\u001b[0m\u001b[0m\n\u001b[0m",
            "\u001b[0;32m/usr/local/lib/python3.7/dist-packages/pandas/core/series.py\u001b[0m in \u001b[0;36m__getitem__\u001b[0;34m(self, key)\u001b[0m\n\u001b[1;32m    940\u001b[0m \u001b[0;34m\u001b[0m\u001b[0m\n\u001b[1;32m    941\u001b[0m         \u001b[0;32melif\u001b[0m \u001b[0mkey_is_scalar\u001b[0m\u001b[0;34m:\u001b[0m\u001b[0;34m\u001b[0m\u001b[0;34m\u001b[0m\u001b[0m\n\u001b[0;32m--> 942\u001b[0;31m             \u001b[0;32mreturn\u001b[0m \u001b[0mself\u001b[0m\u001b[0;34m.\u001b[0m\u001b[0m_get_value\u001b[0m\u001b[0;34m(\u001b[0m\u001b[0mkey\u001b[0m\u001b[0;34m)\u001b[0m\u001b[0;34m\u001b[0m\u001b[0;34m\u001b[0m\u001b[0m\n\u001b[0m\u001b[1;32m    943\u001b[0m \u001b[0;34m\u001b[0m\u001b[0m\n\u001b[1;32m    944\u001b[0m         \u001b[0;32mif\u001b[0m \u001b[0mis_hashable\u001b[0m\u001b[0;34m(\u001b[0m\u001b[0mkey\u001b[0m\u001b[0;34m)\u001b[0m\u001b[0;34m:\u001b[0m\u001b[0;34m\u001b[0m\u001b[0;34m\u001b[0m\u001b[0m\n",
            "\u001b[0;32m/usr/local/lib/python3.7/dist-packages/pandas/core/series.py\u001b[0m in \u001b[0;36m_get_value\u001b[0;34m(self, label, takeable)\u001b[0m\n\u001b[1;32m   1049\u001b[0m \u001b[0;34m\u001b[0m\u001b[0m\n\u001b[1;32m   1050\u001b[0m         \u001b[0;31m# Similar to Index.get_value, but we do not fall back to positional\u001b[0m\u001b[0;34m\u001b[0m\u001b[0;34m\u001b[0m\u001b[0;34m\u001b[0m\u001b[0m\n\u001b[0;32m-> 1051\u001b[0;31m         \u001b[0mloc\u001b[0m \u001b[0;34m=\u001b[0m \u001b[0mself\u001b[0m\u001b[0;34m.\u001b[0m\u001b[0mindex\u001b[0m\u001b[0;34m.\u001b[0m\u001b[0mget_loc\u001b[0m\u001b[0;34m(\u001b[0m\u001b[0mlabel\u001b[0m\u001b[0;34m)\u001b[0m\u001b[0;34m\u001b[0m\u001b[0;34m\u001b[0m\u001b[0m\n\u001b[0m\u001b[1;32m   1052\u001b[0m         \u001b[0;32mreturn\u001b[0m \u001b[0mself\u001b[0m\u001b[0;34m.\u001b[0m\u001b[0mindex\u001b[0m\u001b[0;34m.\u001b[0m\u001b[0m_get_values_for_loc\u001b[0m\u001b[0;34m(\u001b[0m\u001b[0mself\u001b[0m\u001b[0;34m,\u001b[0m \u001b[0mloc\u001b[0m\u001b[0;34m,\u001b[0m \u001b[0mlabel\u001b[0m\u001b[0;34m)\u001b[0m\u001b[0;34m\u001b[0m\u001b[0;34m\u001b[0m\u001b[0m\n\u001b[1;32m   1053\u001b[0m \u001b[0;34m\u001b[0m\u001b[0m\n",
            "\u001b[0;32m/usr/local/lib/python3.7/dist-packages/pandas/core/indexes/base.py\u001b[0m in \u001b[0;36mget_loc\u001b[0;34m(self, key, method, tolerance)\u001b[0m\n\u001b[1;32m   3361\u001b[0m                 \u001b[0;32mreturn\u001b[0m \u001b[0mself\u001b[0m\u001b[0;34m.\u001b[0m\u001b[0m_engine\u001b[0m\u001b[0;34m.\u001b[0m\u001b[0mget_loc\u001b[0m\u001b[0;34m(\u001b[0m\u001b[0mcasted_key\u001b[0m\u001b[0;34m)\u001b[0m\u001b[0;34m\u001b[0m\u001b[0;34m\u001b[0m\u001b[0m\n\u001b[1;32m   3362\u001b[0m             \u001b[0;32mexcept\u001b[0m \u001b[0mKeyError\u001b[0m \u001b[0;32mas\u001b[0m \u001b[0merr\u001b[0m\u001b[0;34m:\u001b[0m\u001b[0;34m\u001b[0m\u001b[0;34m\u001b[0m\u001b[0m\n\u001b[0;32m-> 3363\u001b[0;31m                 \u001b[0;32mraise\u001b[0m \u001b[0mKeyError\u001b[0m\u001b[0;34m(\u001b[0m\u001b[0mkey\u001b[0m\u001b[0;34m)\u001b[0m \u001b[0;32mfrom\u001b[0m \u001b[0merr\u001b[0m\u001b[0;34m\u001b[0m\u001b[0;34m\u001b[0m\u001b[0m\n\u001b[0m\u001b[1;32m   3364\u001b[0m \u001b[0;34m\u001b[0m\u001b[0m\n\u001b[1;32m   3365\u001b[0m         \u001b[0;32mif\u001b[0m \u001b[0mis_scalar\u001b[0m\u001b[0;34m(\u001b[0m\u001b[0mkey\u001b[0m\u001b[0;34m)\u001b[0m \u001b[0;32mand\u001b[0m \u001b[0misna\u001b[0m\u001b[0;34m(\u001b[0m\u001b[0mkey\u001b[0m\u001b[0;34m)\u001b[0m \u001b[0;32mand\u001b[0m \u001b[0;32mnot\u001b[0m \u001b[0mself\u001b[0m\u001b[0;34m.\u001b[0m\u001b[0mhasnans\u001b[0m\u001b[0;34m:\u001b[0m\u001b[0;34m\u001b[0m\u001b[0;34m\u001b[0m\u001b[0m\n",
            "\u001b[0;31mKeyError\u001b[0m: 0"
          ]
        }
      ]
    },
    {
      "cell_type": "code",
      "metadata": {
        "id": "svWQ3-BOq7ye",
        "colab": {
          "base_uri": "https://localhost:8080/"
        },
        "outputId": "c9dd9a4c-9796-4e8c-e82d-7aa56faacfc4"
      },
      "source": [
        "logisticRegr.predict(test_img[0].reshape(1,-1))"
      ],
      "execution_count": null,
      "outputs": [
        {
          "output_type": "execute_result",
          "data": {
            "text/plain": [
              "array(['0'], dtype=object)"
            ]
          },
          "metadata": {},
          "execution_count": 21
        }
      ]
    },
    {
      "cell_type": "code",
      "metadata": {
        "id": "oWLnyuB9tCMQ",
        "colab": {
          "base_uri": "https://localhost:8080/",
          "height": 549
        },
        "outputId": "5106fefb-2762-4a12-f23d-317849b8d7ff"
      },
      "source": [
        "test_lbl[0]"
      ],
      "execution_count": null,
      "outputs": [
        {
          "output_type": "error",
          "ename": "KeyError",
          "evalue": "ignored",
          "traceback": [
            "\u001b[0;31m---------------------------------------------------------------------------\u001b[0m",
            "\u001b[0;31mKeyError\u001b[0m                                  Traceback (most recent call last)",
            "\u001b[0;32m/usr/local/lib/python3.7/dist-packages/pandas/core/indexes/base.py\u001b[0m in \u001b[0;36mget_loc\u001b[0;34m(self, key, method, tolerance)\u001b[0m\n\u001b[1;32m   3360\u001b[0m             \u001b[0;32mtry\u001b[0m\u001b[0;34m:\u001b[0m\u001b[0;34m\u001b[0m\u001b[0;34m\u001b[0m\u001b[0m\n\u001b[0;32m-> 3361\u001b[0;31m                 \u001b[0;32mreturn\u001b[0m \u001b[0mself\u001b[0m\u001b[0;34m.\u001b[0m\u001b[0m_engine\u001b[0m\u001b[0;34m.\u001b[0m\u001b[0mget_loc\u001b[0m\u001b[0;34m(\u001b[0m\u001b[0mcasted_key\u001b[0m\u001b[0;34m)\u001b[0m\u001b[0;34m\u001b[0m\u001b[0;34m\u001b[0m\u001b[0m\n\u001b[0m\u001b[1;32m   3362\u001b[0m             \u001b[0;32mexcept\u001b[0m \u001b[0mKeyError\u001b[0m \u001b[0;32mas\u001b[0m \u001b[0merr\u001b[0m\u001b[0;34m:\u001b[0m\u001b[0;34m\u001b[0m\u001b[0;34m\u001b[0m\u001b[0m\n",
            "\u001b[0;32m/usr/local/lib/python3.7/dist-packages/pandas/_libs/index.pyx\u001b[0m in \u001b[0;36mpandas._libs.index.IndexEngine.get_loc\u001b[0;34m()\u001b[0m\n",
            "\u001b[0;32m/usr/local/lib/python3.7/dist-packages/pandas/_libs/index.pyx\u001b[0m in \u001b[0;36mpandas._libs.index.IndexEngine.get_loc\u001b[0;34m()\u001b[0m\n",
            "\u001b[0;32mpandas/_libs/hashtable_class_helper.pxi\u001b[0m in \u001b[0;36mpandas._libs.hashtable.Int64HashTable.get_item\u001b[0;34m()\u001b[0m\n",
            "\u001b[0;32mpandas/_libs/hashtable_class_helper.pxi\u001b[0m in \u001b[0;36mpandas._libs.hashtable.Int64HashTable.get_item\u001b[0;34m()\u001b[0m\n",
            "\u001b[0;31mKeyError\u001b[0m: 0",
            "\nThe above exception was the direct cause of the following exception:\n",
            "\u001b[0;31mKeyError\u001b[0m                                  Traceback (most recent call last)",
            "\u001b[0;32m<ipython-input-25-148073f5bf52>\u001b[0m in \u001b[0;36m<module>\u001b[0;34m()\u001b[0m\n\u001b[0;32m----> 1\u001b[0;31m \u001b[0mtest_lbl\u001b[0m\u001b[0;34m[\u001b[0m\u001b[0;36m0\u001b[0m\u001b[0;34m]\u001b[0m\u001b[0;34m\u001b[0m\u001b[0;34m\u001b[0m\u001b[0m\n\u001b[0m",
            "\u001b[0;32m/usr/local/lib/python3.7/dist-packages/pandas/core/series.py\u001b[0m in \u001b[0;36m__getitem__\u001b[0;34m(self, key)\u001b[0m\n\u001b[1;32m    940\u001b[0m \u001b[0;34m\u001b[0m\u001b[0m\n\u001b[1;32m    941\u001b[0m         \u001b[0;32melif\u001b[0m \u001b[0mkey_is_scalar\u001b[0m\u001b[0;34m:\u001b[0m\u001b[0;34m\u001b[0m\u001b[0;34m\u001b[0m\u001b[0m\n\u001b[0;32m--> 942\u001b[0;31m             \u001b[0;32mreturn\u001b[0m \u001b[0mself\u001b[0m\u001b[0;34m.\u001b[0m\u001b[0m_get_value\u001b[0m\u001b[0;34m(\u001b[0m\u001b[0mkey\u001b[0m\u001b[0;34m)\u001b[0m\u001b[0;34m\u001b[0m\u001b[0;34m\u001b[0m\u001b[0m\n\u001b[0m\u001b[1;32m    943\u001b[0m \u001b[0;34m\u001b[0m\u001b[0m\n\u001b[1;32m    944\u001b[0m         \u001b[0;32mif\u001b[0m \u001b[0mis_hashable\u001b[0m\u001b[0;34m(\u001b[0m\u001b[0mkey\u001b[0m\u001b[0;34m)\u001b[0m\u001b[0;34m:\u001b[0m\u001b[0;34m\u001b[0m\u001b[0;34m\u001b[0m\u001b[0m\n",
            "\u001b[0;32m/usr/local/lib/python3.7/dist-packages/pandas/core/series.py\u001b[0m in \u001b[0;36m_get_value\u001b[0;34m(self, label, takeable)\u001b[0m\n\u001b[1;32m   1049\u001b[0m \u001b[0;34m\u001b[0m\u001b[0m\n\u001b[1;32m   1050\u001b[0m         \u001b[0;31m# Similar to Index.get_value, but we do not fall back to positional\u001b[0m\u001b[0;34m\u001b[0m\u001b[0;34m\u001b[0m\u001b[0;34m\u001b[0m\u001b[0m\n\u001b[0;32m-> 1051\u001b[0;31m         \u001b[0mloc\u001b[0m \u001b[0;34m=\u001b[0m \u001b[0mself\u001b[0m\u001b[0;34m.\u001b[0m\u001b[0mindex\u001b[0m\u001b[0;34m.\u001b[0m\u001b[0mget_loc\u001b[0m\u001b[0;34m(\u001b[0m\u001b[0mlabel\u001b[0m\u001b[0;34m)\u001b[0m\u001b[0;34m\u001b[0m\u001b[0;34m\u001b[0m\u001b[0m\n\u001b[0m\u001b[1;32m   1052\u001b[0m         \u001b[0;32mreturn\u001b[0m \u001b[0mself\u001b[0m\u001b[0;34m.\u001b[0m\u001b[0mindex\u001b[0m\u001b[0;34m.\u001b[0m\u001b[0m_get_values_for_loc\u001b[0m\u001b[0;34m(\u001b[0m\u001b[0mself\u001b[0m\u001b[0;34m,\u001b[0m \u001b[0mloc\u001b[0m\u001b[0;34m,\u001b[0m \u001b[0mlabel\u001b[0m\u001b[0;34m)\u001b[0m\u001b[0;34m\u001b[0m\u001b[0;34m\u001b[0m\u001b[0m\n\u001b[1;32m   1053\u001b[0m \u001b[0;34m\u001b[0m\u001b[0m\n",
            "\u001b[0;32m/usr/local/lib/python3.7/dist-packages/pandas/core/indexes/base.py\u001b[0m in \u001b[0;36mget_loc\u001b[0;34m(self, key, method, tolerance)\u001b[0m\n\u001b[1;32m   3361\u001b[0m                 \u001b[0;32mreturn\u001b[0m \u001b[0mself\u001b[0m\u001b[0;34m.\u001b[0m\u001b[0m_engine\u001b[0m\u001b[0;34m.\u001b[0m\u001b[0mget_loc\u001b[0m\u001b[0;34m(\u001b[0m\u001b[0mcasted_key\u001b[0m\u001b[0;34m)\u001b[0m\u001b[0;34m\u001b[0m\u001b[0;34m\u001b[0m\u001b[0m\n\u001b[1;32m   3362\u001b[0m             \u001b[0;32mexcept\u001b[0m \u001b[0mKeyError\u001b[0m \u001b[0;32mas\u001b[0m \u001b[0merr\u001b[0m\u001b[0;34m:\u001b[0m\u001b[0;34m\u001b[0m\u001b[0;34m\u001b[0m\u001b[0m\n\u001b[0;32m-> 3363\u001b[0;31m                 \u001b[0;32mraise\u001b[0m \u001b[0mKeyError\u001b[0m\u001b[0;34m(\u001b[0m\u001b[0mkey\u001b[0m\u001b[0;34m)\u001b[0m \u001b[0;32mfrom\u001b[0m \u001b[0merr\u001b[0m\u001b[0;34m\u001b[0m\u001b[0;34m\u001b[0m\u001b[0m\n\u001b[0m\u001b[1;32m   3364\u001b[0m \u001b[0;34m\u001b[0m\u001b[0m\n\u001b[1;32m   3365\u001b[0m         \u001b[0;32mif\u001b[0m \u001b[0mis_scalar\u001b[0m\u001b[0;34m(\u001b[0m\u001b[0mkey\u001b[0m\u001b[0;34m)\u001b[0m \u001b[0;32mand\u001b[0m \u001b[0misna\u001b[0m\u001b[0;34m(\u001b[0m\u001b[0mkey\u001b[0m\u001b[0;34m)\u001b[0m \u001b[0;32mand\u001b[0m \u001b[0;32mnot\u001b[0m \u001b[0mself\u001b[0m\u001b[0;34m.\u001b[0m\u001b[0mhasnans\u001b[0m\u001b[0;34m:\u001b[0m\u001b[0;34m\u001b[0m\u001b[0;34m\u001b[0m\u001b[0m\n",
            "\u001b[0;31mKeyError\u001b[0m: 0"
          ]
        }
      ]
    },
    {
      "cell_type": "code",
      "metadata": {
        "id": "jUadzbnvs0rE",
        "colab": {
          "base_uri": "https://localhost:8080/"
        },
        "outputId": "ccfbcbfa-2d4d-40ba-c6d5-1fb668d0b799"
      },
      "source": [
        "print(logisticRegr.predict(test_img[0:10]))"
      ],
      "execution_count": null,
      "outputs": [
        {
          "output_type": "stream",
          "name": "stdout",
          "text": [
            "['0' '9' '4' '4' '5' '6' '1' '3' '1' '3']\n"
          ]
        }
      ]
    },
    {
      "cell_type": "code",
      "metadata": {
        "id": "flOfJvKrs0zI",
        "colab": {
          "base_uri": "https://localhost:8080/"
        },
        "outputId": "75c30b1a-a908-461c-fc3b-34dc24d23b97"
      },
      "source": [
        "test_lbl[0:10]"
      ],
      "execution_count": null,
      "outputs": [
        {
          "output_type": "execute_result",
          "data": {
            "text/plain": [
              "21971    0\n",
              "16953    9\n",
              "48447    4\n",
              "42344    9\n",
              "4376     5\n",
              "65743    6\n",
              "64717    1\n",
              "2820     3\n",
              "57997    1\n",
              "25377    3\n",
              "Name: class, dtype: category\n",
              "Categories (10, object): ['0', '1', '2', '3', ..., '6', '7', '8', '9']"
            ]
          },
          "metadata": {},
          "execution_count": 26
        }
      ]
    },
    {
      "cell_type": "code",
      "metadata": {
        "id": "U30yMLhas0v9",
        "colab": {
          "base_uri": "https://localhost:8080/"
        },
        "outputId": "9589a6b7-3fba-4696-ca5a-54aacc51f2b3"
      },
      "source": [
        "#test data accuracy\n",
        "accuracy = logisticRegr.score(test_img,test_lbl)\n",
        "accuracy"
      ],
      "execution_count": null,
      "outputs": [
        {
          "output_type": "execute_result",
          "data": {
            "text/plain": [
              "0.9138095238095238"
            ]
          },
          "metadata": {},
          "execution_count": 28
        }
      ]
    },
    {
      "cell_type": "code",
      "metadata": {
        "id": "ndwRbJXds0t5",
        "colab": {
          "base_uri": "https://localhost:8080/"
        },
        "outputId": "bb752a8a-f2c6-4557-8264-f56b9d3e0167"
      },
      "source": [
        "accuracy = logisticRegr.score(train_img,train_lbl)\n",
        "accuracy"
      ],
      "execution_count": null,
      "outputs": [
        {
          "output_type": "execute_result",
          "data": {
            "text/plain": [
              "0.9456326530612245"
            ]
          },
          "metadata": {},
          "execution_count": 29
        }
      ]
    },
    {
      "cell_type": "code",
      "metadata": {
        "id": "cvzu7Yzas0oz"
      },
      "source": [
        ""
      ],
      "execution_count": null,
      "outputs": []
    },
    {
      "cell_type": "code",
      "metadata": {
        "id": "Y_RzG-HrvR6H",
        "colab": {
          "base_uri": "https://localhost:8080/"
        },
        "outputId": "a6025130-27ae-4ab3-d83b-89115523e87f"
      },
      "source": [
        "lR = LogisticRegression(solver='lbfgs')\n",
        "lR.fit(train_img,train_lbl)"
      ],
      "execution_count": null,
      "outputs": [
        {
          "output_type": "stream",
          "name": "stderr",
          "text": [
            "/usr/local/lib/python3.7/dist-packages/sklearn/linear_model/_logistic.py:818: ConvergenceWarning: lbfgs failed to converge (status=1):\n",
            "STOP: TOTAL NO. of ITERATIONS REACHED LIMIT.\n",
            "\n",
            "Increase the number of iterations (max_iter) or scale the data as shown in:\n",
            "    https://scikit-learn.org/stable/modules/preprocessing.html\n",
            "Please also refer to the documentation for alternative solver options:\n",
            "    https://scikit-learn.org/stable/modules/linear_model.html#logistic-regression\n",
            "  extra_warning_msg=_LOGISTIC_SOLVER_CONVERGENCE_MSG,\n"
          ]
        },
        {
          "output_type": "execute_result",
          "data": {
            "text/plain": [
              "LogisticRegression()"
            ]
          },
          "metadata": {},
          "execution_count": 30
        }
      ]
    },
    {
      "cell_type": "code",
      "metadata": {
        "id": "8-VIy9okvRam",
        "colab": {
          "base_uri": "https://localhost:8080/"
        },
        "outputId": "d9bd06d1-a93d-40b1-86fd-eec234b5f974"
      },
      "source": [
        "lR.predict(test_img[0].reshape(1,-1))"
      ],
      "execution_count": null,
      "outputs": [
        {
          "output_type": "execute_result",
          "data": {
            "text/plain": [
              "array(['0'], dtype=object)"
            ]
          },
          "metadata": {},
          "execution_count": 31
        }
      ]
    },
    {
      "cell_type": "code",
      "metadata": {
        "id": "BAlOaGYKvRXh",
        "colab": {
          "base_uri": "https://localhost:8080/"
        },
        "outputId": "ac3912e0-38c8-4133-b7d1-67a622ba0e44"
      },
      "source": [
        "lR.predict(test_img[0:10])"
      ],
      "execution_count": null,
      "outputs": [
        {
          "output_type": "execute_result",
          "data": {
            "text/plain": [
              "array(['0', '9', '4', '4', '5', '6', '1', '3', '1', '3'], dtype=object)"
            ]
          },
          "metadata": {},
          "execution_count": 32
        }
      ]
    },
    {
      "cell_type": "code",
      "metadata": {
        "id": "S7yYXnX3viE4",
        "colab": {
          "base_uri": "https://localhost:8080/"
        },
        "outputId": "7067bb51-32d1-4c31-d4be-31bd5c8fd910"
      },
      "source": [
        "accuracy = lR.score(train_img,train_lbl)\n",
        "accuracy"
      ],
      "execution_count": null,
      "outputs": [
        {
          "output_type": "execute_result",
          "data": {
            "text/plain": [
              "0.9456326530612245"
            ]
          },
          "metadata": {},
          "execution_count": 33
        }
      ]
    },
    {
      "cell_type": "code",
      "metadata": {
        "id": "1bIlt6taviIu",
        "colab": {
          "base_uri": "https://localhost:8080/"
        },
        "outputId": "a3c76c28-e21f-4d39-c31b-32751d166bb6"
      },
      "source": [
        "accuracy = lR.score(test_img,test_lbl)\n",
        "accuracy"
      ],
      "execution_count": null,
      "outputs": [
        {
          "output_type": "execute_result",
          "data": {
            "text/plain": [
              "0.9138095238095238"
            ]
          },
          "metadata": {},
          "execution_count": 34
        }
      ]
    },
    {
      "cell_type": "code",
      "metadata": {
        "id": "6ZtGWzaoviCh"
      },
      "source": [
        ""
      ],
      "execution_count": null,
      "outputs": []
    },
    {
      "cell_type": "code",
      "metadata": {
        "id": "eQaWXqe8sP7P"
      },
      "source": [
        "from sklearn.datasets import fetch_openml\n",
        "from sklearn.decomposition import PCA\n",
        "from sklearn.preprocessing import StandardScaler\n",
        "from sklearn import metrics\n",
        "from sklearn.model_selection import train_test_split\n",
        "import pandas as pd"
      ],
      "execution_count": null,
      "outputs": []
    },
    {
      "cell_type": "markdown",
      "metadata": {
        "id": "96-Xqhhls7mi"
      },
      "source": [
        "Download and load data"
      ]
    },
    {
      "cell_type": "code",
      "metadata": {
        "id": "2-gT8Xinsf-d"
      },
      "source": [
        "# You can add the parameter data_home to wherever to where you want to download your data\n",
        "mnist = fetch_openml('mnist_784')\n",
        "mnist"
      ],
      "execution_count": null,
      "outputs": []
    },
    {
      "cell_type": "code",
      "metadata": {
        "id": "XvveyU5ntDe3"
      },
      "source": [
        "# These are the images\n",
        "mnist.data.shape"
      ],
      "execution_count": null,
      "outputs": []
    },
    {
      "cell_type": "code",
      "metadata": {
        "id": "mv_-vreCtGo2"
      },
      "source": [
        "# These are the labels\n",
        "mnist.target.shape"
      ],
      "execution_count": null,
      "outputs": []
    },
    {
      "cell_type": "markdown",
      "metadata": {
        "id": "jmmrxmFGtI6O"
      },
      "source": [
        "**Splitting Data into Training and Test Sets**"
      ]
    },
    {
      "cell_type": "code",
      "metadata": {
        "id": "hFKJLTBwtLia"
      },
      "source": [
        "# test_size: what proportion of original data is used for test set\n",
        "train_img, test_img, train_lbl, test_lbl = train_test_split(\n",
        "    mnist.data, mnist.target, test_size=1/7.0, random_state=0)"
      ],
      "execution_count": null,
      "outputs": []
    },
    {
      "cell_type": "code",
      "metadata": {
        "id": "OEaIGVT6tQ-L"
      },
      "source": [
        "print(train_img.shape)"
      ],
      "execution_count": null,
      "outputs": []
    },
    {
      "cell_type": "code",
      "metadata": {
        "id": "IwhsXCgYtTmW"
      },
      "source": [
        "print(train_img.shape)"
      ],
      "execution_count": null,
      "outputs": []
    },
    {
      "cell_type": "code",
      "metadata": {
        "id": "ziOSaQGKtWrb"
      },
      "source": [
        "print(test_img.shape)"
      ],
      "execution_count": null,
      "outputs": []
    },
    {
      "cell_type": "code",
      "metadata": {
        "id": "J4ySsgsgtZdD"
      },
      "source": [
        "print(test_lbl.shape)"
      ],
      "execution_count": null,
      "outputs": []
    },
    {
      "cell_type": "markdown",
      "metadata": {
        "id": "aGWR_H92tfr2"
      },
      "source": [
        "**Standardizing the Data**\n",
        "Since PCA yields a feature subspace that maximizes the variance along the axes, it makes sense to standardize the data, especially, if it was measured on different scales.\n",
        "\n"
      ]
    },
    {
      "cell_type": "code",
      "metadata": {
        "id": "N4TP5zwWtj0E"
      },
      "source": [
        "from sklearn.preprocessing import StandardScaler\n",
        "scaler = StandardScaler()\n",
        "\n",
        "# Fit on training set only.\n",
        "scaler.fit(train_img)\n",
        "\n",
        "# Apply transform to both the training set and the test set.\n",
        "train_img = scaler.transform(train_img)\n",
        "test_img = scaler.transform(test_img)"
      ],
      "execution_count": null,
      "outputs": []
    },
    {
      "cell_type": "code",
      "metadata": {
        "id": "4HFgAhS3tnhg"
      },
      "source": [
        "from sklearn.decomposition import PCA"
      ],
      "execution_count": null,
      "outputs": []
    },
    {
      "cell_type": "code",
      "metadata": {
        "id": "Wzwm_ZfetuwO"
      },
      "source": [
        "pca = PCA(.95)\n",
        "pca =PCA()"
      ],
      "execution_count": null,
      "outputs": []
    },
    {
      "cell_type": "markdown",
      "metadata": {
        "id": "FjFcnuk9tyj6"
      },
      "source": [
        "**Fit PCA on training set**"
      ]
    },
    {
      "cell_type": "code",
      "metadata": {
        "id": "1O0PFAkpt2xn"
      },
      "source": [
        "X_norm_r = pca.fit(train_img)"
      ],
      "execution_count": null,
      "outputs": []
    },
    {
      "cell_type": "code",
      "metadata": {
        "id": "-9tpBPA4t5gT"
      },
      "source": [
        "pca.n_components_"
      ],
      "execution_count": null,
      "outputs": []
    },
    {
      "cell_type": "markdown",
      "metadata": {
        "id": "GK_UPp2jt8fK"
      },
      "source": [
        "**Apply the mapping (transform) to both the training set and the test set.**"
      ]
    },
    {
      "cell_type": "code",
      "metadata": {
        "id": "YTy3_qpbt98t"
      },
      "source": [
        "train_img = pca.transform(train_img)\n",
        "test_img = pca.transform(test_img)                  "
      ],
      "execution_count": null,
      "outputs": []
    },
    {
      "cell_type": "markdown",
      "metadata": {
        "id": "yzYxX4F3toIi"
      },
      "source": [
        "# **PCA to Speed up Machine Learning Algorithms (Logistic Regression)**"
      ]
    },
    {
      "cell_type": "markdown",
      "metadata": {
        "id": "EssorMCIuD55"
      },
      "source": [
        "Step 1: Import the model"
      ]
    },
    {
      "cell_type": "code",
      "metadata": {
        "id": "qv5kb3NsuH5a"
      },
      "source": [
        "from sklearn.linear_model import LogisticRegression"
      ],
      "execution_count": null,
      "outputs": []
    },
    {
      "cell_type": "markdown",
      "metadata": {
        "id": "L5Snm2OEuLGq"
      },
      "source": [
        "Step 2: Make an instance of the Model"
      ]
    },
    {
      "cell_type": "code",
      "metadata": {
        "id": "uGaX2wSxuQ3s"
      },
      "source": [
        "# all parameters not specified are set to their defaults\n",
        "# default solver is incredibly slow thats why we change it\n",
        "# solver = 'lbfgs'\n",
        "logisticRegr = LogisticRegression(solver = 'lbfgs')"
      ],
      "execution_count": null,
      "outputs": []
    },
    {
      "cell_type": "markdown",
      "metadata": {
        "id": "-LJfdZ-CuVRF"
      },
      "source": [
        "Step 3: Training the model on the data, storing the information learned from the data\n",
        "\n",
        "Model is learning the relationship between x (digits) and y (labels)"
      ]
    },
    {
      "cell_type": "code",
      "metadata": {
        "id": "q9iq-wULuWBC"
      },
      "source": [
        "logisticRegr.fit(train_img, train_lbl)"
      ],
      "execution_count": null,
      "outputs": []
    },
    {
      "cell_type": "markdown",
      "metadata": {
        "id": "wn5S2UmWuclD"
      },
      "source": [
        "Step 4: Predict the labels of new data (new images)\n",
        "\n",
        "Uses the information the model learned during the model training process"
      ]
    },
    {
      "cell_type": "code",
      "metadata": {
        "id": "eSAuXcJfucIy"
      },
      "source": [
        "# Returns a NumPy Array\n",
        "# Predict for One Observation (image)\n",
        "logisticRegr.predict(test_img[0].reshape(1,-1))"
      ],
      "execution_count": null,
      "outputs": []
    },
    {
      "cell_type": "code",
      "metadata": {
        "id": "cvrZOlQXuiXz"
      },
      "source": [
        "# Predict for Multiple Observations (images) at Once\n",
        "logisticRegr.predict(test_img[0:10])"
      ],
      "execution_count": null,
      "outputs": []
    },
    {
      "cell_type": "markdown",
      "metadata": {
        "id": "m4yokk_XumVJ"
      },
      "source": [
        "Measuring Model Performance\n",
        "accuracy (fraction of correct predictions): correct predictions / total number of data points\n",
        "\n",
        "Basically, how the model performs on new data (test set)"
      ]
    },
    {
      "cell_type": "code",
      "metadata": {
        "id": "I4-VBXf0unK-"
      },
      "source": [
        "score = logisticRegr.score(test_img, test_lbl)\n",
        "print(score)"
      ],
      "execution_count": null,
      "outputs": []
    },
    {
      "cell_type": "code",
      "metadata": {
        "id": "o0egKUDIE6h1"
      },
      "source": [
        "from google.colab import drive\n",
        "drive.mount('/content/drive')"
      ],
      "execution_count": null,
      "outputs": []
    }
  ]
}